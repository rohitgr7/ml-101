{
 "cells": [
  {
   "cell_type": "markdown",
   "metadata": {
    "colab_type": "text",
    "id": "wuXbshhI5vij"
   },
   "source": [
    "# Seq2Seq GRU with Luong Attetion for english to german translation.\n",
    "### Dataset: [Link](http://www.manythings.org/anki/)\n",
    "### Paper: [Link](https://arxiv.org/abs/1508.04025)\n"
   ]
  },
  {
   "cell_type": "code",
   "execution_count": 0,
   "metadata": {
    "colab": {},
    "colab_type": "code",
    "id": "iN7ZhfVm9Hw_"
   },
   "outputs": [],
   "source": [
    "import numpy as np\n",
    "import matplotlib.pyplot as plt\n",
    "import tensorflow as tf\n",
    "from tensorflow.keras.layers import Embedding, Dense, LSTM, CuDNNLSTM, Bidirectional, GRU, CuDNNGRU, RepeatVector, Dot\n",
    "from tensorflow.keras.preprocessing.sequence import pad_sequences\n",
    "import unicodedata\n",
    "import re\n",
    "import time\n",
    "import os\n",
    "\n",
    "# Eager execution\n",
    "tf.enable_eager_execution()"
   ]
  },
  {
   "cell_type": "code",
   "execution_count": 0,
   "metadata": {
    "colab": {},
    "colab_type": "code",
    "id": "a-51u_M5ID1p"
   },
   "outputs": [],
   "source": [
    "D_PATH = 'drive/My Drive/nmt-keras/data/deu.txt'\n",
    "EPOCHS=10\n",
    "BATCH_SIZE=64\n",
    "EMBEDDING_DIM = 256\n",
    "HIDDEN_DIM=1024\n",
    "NUM_SAMPLES = 30000\n",
    "USE_TEACHER_FORCING = True"
   ]
  },
  {
   "cell_type": "markdown",
   "metadata": {
    "colab_type": "text",
    "id": "IcUOQ4OcWDrk"
   },
   "source": [
    "## Load and preprocess data"
   ]
  },
  {
   "cell_type": "code",
   "execution_count": 0,
   "metadata": {
    "colab": {},
    "colab_type": "code",
    "id": "_3vAUw2aJUI3"
   },
   "outputs": [],
   "source": [
    "def unicode_to_ascii(s):\n",
    "    return ''.join(c for c in unicodedata.normalize('NFD', s) if unicodedata.category(c) != 'Mn')\n",
    "\n",
    "def preprocess_text(txt):\n",
    "    txt = unicode_to_ascii(txt.lower().strip())\n",
    "    \n",
    "    # creating a space between a word and the punctuation following it\n",
    "    # eg: \"he is a boy.\" => \"he is a boy .\"\n",
    "    txt = re.sub(r\"([?.!,¿])\", r\" \\1 \", txt)\n",
    "    txt = re.sub(r'[\" \"]+', \" \", txt)\n",
    "    \n",
    "    # replacing everything with space except (a-z, A-Z, \".\", \"?\", \"!\", \",\")\n",
    "    txt = re.sub(r\"[^a-zA-Z?.!,¿]+\", \" \", txt)\n",
    "    \n",
    "    txt = txt.rstrip().strip()\n",
    "    \n",
    "    # adding a start and an end token to the sentence\n",
    "    # so that the model know when to start and stop predicting.\n",
    "    txt = '<START> ' + txt + ' <END>'\n",
    "    return txt"
   ]
  },
  {
   "cell_type": "code",
   "execution_count": 0,
   "metadata": {
    "colab": {},
    "colab_type": "code",
    "id": "OpNZVPaJLU3o"
   },
   "outputs": [],
   "source": [
    "class Language:\n",
    "    def __init__(self, lng):\n",
    "        self.word2ix = {}\n",
    "        self.ix2word = {}\n",
    "        self.vocab = set()\n",
    "        \n",
    "        self._create_index(lng)\n",
    "      \n",
    "    def _create_index(self, texts):\n",
    "        for txt in texts:\n",
    "            self.vocab.update(txt.split())\n",
    "        \n",
    "        self.word2ix = {word:i+1 for i, word in enumerate(self.vocab)}\n",
    "        self.word2ix['<PAD>'] = 0        \n",
    "        self.ix2word = {i:word for word, i in self.word2ix.items()}\n",
    "        self.vocab_len = len(self.word2ix)\n",
    "        "
   ]
  },
  {
   "cell_type": "code",
   "execution_count": 0,
   "metadata": {
    "colab": {},
    "colab_type": "code",
    "id": "Czgy5g7wI6a-"
   },
   "outputs": [],
   "source": [
    "def load_dataset(d_path, num_samples):\n",
    "    # Load the data\n",
    "    lines = open(d_path, 'r', encoding='UTF-8').read().strip().split('\\n')\n",
    "    \n",
    "    # Create texts\n",
    "    texts = [[preprocess_text(txt) for txt in l.split('\\t')] for l in lines][:min(num_samples, len(lines)-1)]\n",
    "    inp_texts = [row[0] for row in texts]\n",
    "    target_texts = [row[1] for row in texts]\n",
    "    \n",
    "    # Create language objects\n",
    "    inp_lng = Language(inp_texts)\n",
    "    target_lng = Language(target_texts)\n",
    "    \n",
    "    # Create tensors\n",
    "    inp_tensor = [[inp_lng.word2ix[word] for word in txt.split()] for txt in inp_texts]\n",
    "    target_tensor = [[target_lng.word2ix[word] for word in txt.split()] for txt in target_texts]\n",
    "    \n",
    "    # Get max_len\n",
    "    inp_max_len = max(len(txt) for txt in inp_tensor)\n",
    "    target_max_len = max(len(txt) for txt in target_tensor)\n",
    "    \n",
    "    # Pad the tensors\n",
    "    inp_tensor = pad_sequences(inp_tensor, inp_max_len, padding='post')\n",
    "    target_tensor = pad_sequences(target_tensor, target_max_len, padding='post')\n",
    "    \n",
    "    return (inp_tensor, inp_lng, inp_max_len), (target_tensor, target_lng, target_max_len)"
   ]
  },
  {
   "cell_type": "code",
   "execution_count": 0,
   "metadata": {
    "colab": {},
    "colab_type": "code",
    "id": "M35jPlxvIkXi"
   },
   "outputs": [],
   "source": [
    "(inp_tensor, inp_lng, inp_max_len), (target_tensor, target_lng, target_max_len) = load_dataset(D_PATH, NUM_SAMPLES)"
   ]
  },
  {
   "cell_type": "code",
   "execution_count": 9,
   "metadata": {
    "colab": {
     "base_uri": "https://localhost:8080/",
     "height": 52
    },
    "colab_type": "code",
    "id": "qzbYDvjqRRl8",
    "outputId": "f44f5f95-ea18-486e-b919-c3fcc1020d81"
   },
   "outputs": [
    {
     "name": "stdout",
     "output_type": "stream",
     "text": [
      "(30000, 11)\n",
      "(30000, 17)\n"
     ]
    }
   ],
   "source": [
    "print(inp_tensor.shape)\n",
    "print(target_tensor.shape)"
   ]
  },
  {
   "cell_type": "code",
   "execution_count": 0,
   "metadata": {
    "colab": {},
    "colab_type": "code",
    "id": "wHf5qTeWWlRe"
   },
   "outputs": [],
   "source": [
    "BUFFER = inp_tensor.shape[0]\n",
    "NUM_BATCHES = BUFFER // BATCH_SIZE\n",
    "\n",
    "dataset = tf.data.Dataset.from_tensor_slices((inp_tensor, target_tensor)).shuffle(BUFFER)\n",
    "dataset = dataset.batch(BATCH_SIZE, drop_remainder=True)"
   ]
  },
  {
   "cell_type": "markdown",
   "metadata": {
    "colab_type": "text",
    "id": "4OvtBWkmVBBA"
   },
   "source": [
    "## Model "
   ]
  },
  {
   "cell_type": "code",
   "execution_count": 0,
   "metadata": {
    "colab": {},
    "colab_type": "code",
    "id": "pe8VZ86lwt7S"
   },
   "outputs": [],
   "source": [
    "def lstm(units):\n",
    "    if tf.test.is_gpu_available():\n",
    "        return CuDNNLSTM(units, return_sequences=True, return_state=True)\n",
    "    else:\n",
    "        return LSTM(units, return_sequences=True, return_state=True)"
   ]
  },
  {
   "cell_type": "code",
   "execution_count": 0,
   "metadata": {
    "colab": {},
    "colab_type": "code",
    "id": "uoLmlvbqxEgi"
   },
   "outputs": [],
   "source": [
    "def gru(units):\n",
    "    if tf.test.is_gpu_available():\n",
    "        return CuDNNGRU(units, return_sequences=True, return_state=True)\n",
    "    else:\n",
    "        return GRU(units, return_sequences=True, return_state=True)"
   ]
  },
  {
   "cell_type": "code",
   "execution_count": 0,
   "metadata": {
    "colab": {},
    "colab_type": "code",
    "id": "CcYXWIZR3fAU"
   },
   "outputs": [],
   "source": [
    "class EncoderGRU(tf.keras.Model):\n",
    "    def __init__(self, vocab_size, embed_dim, h_dim, batch_size):\n",
    "        super().__init__()\n",
    "        self.embedding = Embedding(vocab_size, embed_dim)\n",
    "        self.gru = gru(h_dim)\n",
    "        self.batch_size = batch_size\n",
    "        self.h_dim = h_dim\n",
    "    \n",
    "    def call(self, x, hidden):\n",
    "        x = self.embedding(x)\n",
    "        out, f_h = self.gru(x, initial_state=hidden)\n",
    "        return out, f_h\n",
    "        \n",
    "    \n",
    "    def init_encoder_hidden(self):\n",
    "        return tf.zeros((self.batch_size, self.h_dim))"
   ]
  },
  {
   "cell_type": "code",
   "execution_count": 0,
   "metadata": {
    "colab": {},
    "colab_type": "code",
    "id": "cfkIg3nr6h3e"
   },
   "outputs": [],
   "source": [
    "class LuongDecoderGRU(tf.keras.Model):\n",
    "    def __init__(self, vocab_size, embed_dim, h_dim, method='dot'):\n",
    "        super().__init__()\n",
    "        self.embedding = Embedding(vocab_size, embed_dim)\n",
    "        self.gru = gru(h_dim)\n",
    "        self.fc = Dense(units=vocab_size)\n",
    "        self.method = method\n",
    "        \n",
    "        # Attention\n",
    "        self.Wc = Dense(units=h_dim)\n",
    "        \n",
    "        if self.method == 'general':\n",
    "            self.Wa = Dense(units=h_dim)\n",
    "        elif self.method == 'concat':\n",
    "            self.Wa = Dense(units=h_dim)\n",
    "            self.Wb = Dense(units=h_dim)\n",
    "            self.Va = Dense(units=1)\n",
    "    \n",
    "    def call(self, x, dec_hid, enc_out):\n",
    "        x = self.embedding(x)\n",
    "        out, dec_h = self.gru(x, initial_state=dec_hid)\n",
    "        \n",
    "        dec_h_time_axis = tf.expand_dims(dec_h, axis=1)\n",
    "        energies = tf.expand_dims(self.score(dec_h_time_axis, enc_out), axis=2) # (batch_size, inp_max_len, 1)\n",
    "        atten_wts = tf.nn.softmax(energies, axis=1)\n",
    "        \n",
    "        context = atten_wts * enc_out # (batch_size, max_len, h_dim)\n",
    "        context = tf.reduce_sum(context, axis=1) #(batch_size, h_dim)\n",
    "        \n",
    "        dense_in = tf.nn.tanh(self.Wc(tf.concat([tf.expand_dims(context, axis=1), dec_h_time_axis], axis=-1)))\n",
    "        dense_in = tf.reshape(dense_in, [-1, dense_in.shape[2]])\n",
    "        fc_out = self.fc(dense_in) # try original paper\n",
    "        \n",
    "        return fc_out, dec_h, atten_wts\n",
    "    \n",
    "    def score(self, hidden, enc_out):\n",
    "        if self.method == 'dot':\n",
    "            return tf.squeeze(tf.linalg.matmul(hidden, enc_out, transpose_b=True), axis=1)\n",
    "        elif self.method == 'general':\n",
    "            return tf.squeeze(tf.linalg.matmul(hidden, self.Wa(enc_out), transpose_b=True), axis=1)\n",
    "        elif self.method == 'concat':\n",
    "            return tf.squeeze(self.Va(tf.nn.tanh(self.Wa(hidden) + self.Wb(enc_out))), axis=-1)"
   ]
  },
  {
   "cell_type": "code",
   "execution_count": 0,
   "metadata": {
    "colab": {},
    "colab_type": "code",
    "id": "RLdNqGzAv8FX"
   },
   "outputs": [],
   "source": [
    "encoder = EncoderGRU(inp_lng.vocab_len, EMBEDDING_DIM, HIDDEN_DIM, BATCH_SIZE)\n",
    "decoder = LuongDecoderGRU(target_lng.vocab_len, EMBEDDING_DIM, HIDDEN_DIM, method='concat')"
   ]
  },
  {
   "cell_type": "code",
   "execution_count": 0,
   "metadata": {
    "colab": {},
    "colab_type": "code",
    "id": "t89k7tDJwN9A"
   },
   "outputs": [],
   "source": [
    "optimizer = tf.train.AdamOptimizer()\n",
    "\n",
    "def loss_fn(target, pred):\n",
    "    # Due to padding\n",
    "    mask = 1 - np.equal(target, 0)\n",
    "    loss = tf.nn.sparse_softmax_cross_entropy_with_logits(labels=target, logits=pred) * mask\n",
    "    \n",
    "    return tf.reduce_mean(loss)"
   ]
  },
  {
   "cell_type": "code",
   "execution_count": 0,
   "metadata": {
    "colab": {},
    "colab_type": "code",
    "id": "FJSBcRooyTKE"
   },
   "outputs": [],
   "source": [
    "checkpoint_dir = './checkpoints'\n",
    "checkpoint_prefix = os.path.join(checkpoint_dir, 'ckpt')\n",
    "checkpoint = tf.train.Checkpoint(optimizer=optimizer,\n",
    "                                 encoder = encoder,\n",
    "                                 decoderz = decoder)"
   ]
  },
  {
   "cell_type": "code",
   "execution_count": 19,
   "metadata": {
    "colab": {
     "base_uri": "https://localhost:8080/",
     "height": 1233
    },
    "colab_type": "code",
    "id": "wP1r25nhzHe5",
    "outputId": "4b0ff8a2-cf2e-4303-82c1-7087e5782d02"
   },
   "outputs": [
    {
     "name": "stdout",
     "output_type": "stream",
     "text": [
      "Epoch: 1 Batch: 0 Loss:3.1654\n",
      "Epoch: 1 Batch: 100 Loss:1.5923\n",
      "Epoch: 1 Batch: 200 Loss:1.3781\n",
      "Epoch: 1 Batch: 300 Loss:1.2874\n",
      "Epoch: 1 Batch: 400 Loss:1.2408\n",
      "Epoch: 1 Loss: 1.4521 Time: 192.42\n",
      "\n",
      "Epoch: 2 Batch: 0 Loss:1.0897\n",
      "Epoch: 2 Batch: 100 Loss:1.1297\n",
      "Epoch: 2 Batch: 200 Loss:0.9844\n",
      "Epoch: 2 Batch: 300 Loss:0.9140\n",
      "Epoch: 2 Batch: 400 Loss:0.9328\n",
      "Epoch: 2 Loss: 0.9906 Time: 187.65\n",
      "\n",
      "Epoch: 3 Batch: 0 Loss:0.7493\n",
      "Epoch: 3 Batch: 100 Loss:0.7140\n",
      "Epoch: 3 Batch: 200 Loss:0.6464\n",
      "Epoch: 3 Batch: 300 Loss:0.6473\n",
      "Epoch: 3 Batch: 400 Loss:0.6112\n",
      "Epoch: 3 Loss: 0.6729 Time: 186.30\n",
      "\n",
      "Epoch: 4 Batch: 0 Loss:0.4446\n",
      "Epoch: 4 Batch: 100 Loss:0.4137\n",
      "Epoch: 4 Batch: 200 Loss:0.3650\n",
      "Epoch: 4 Batch: 300 Loss:0.4564\n",
      "Epoch: 4 Batch: 400 Loss:0.4032\n",
      "Epoch: 4 Loss: 0.4456 Time: 188.24\n",
      "\n",
      "Epoch: 5 Batch: 0 Loss:0.2685\n",
      "Epoch: 5 Batch: 100 Loss:0.3378\n",
      "Epoch: 5 Batch: 200 Loss:0.3088\n",
      "Epoch: 5 Batch: 300 Loss:0.3044\n",
      "Epoch: 5 Batch: 400 Loss:0.2984\n",
      "Epoch: 5 Loss: 0.3060 Time: 189.63\n",
      "\n",
      "Epoch: 6 Batch: 0 Loss:0.2142\n",
      "Epoch: 6 Batch: 100 Loss:0.1904\n",
      "Epoch: 6 Batch: 200 Loss:0.2130\n",
      "Epoch: 6 Batch: 300 Loss:0.2333\n",
      "Epoch: 6 Batch: 400 Loss:0.2434\n",
      "Epoch: 6 Loss: 0.2284 Time: 191.71\n",
      "\n",
      "Epoch: 7 Batch: 0 Loss:0.1474\n",
      "Epoch: 7 Batch: 100 Loss:0.1617\n",
      "Epoch: 7 Batch: 200 Loss:0.1999\n",
      "Epoch: 7 Batch: 300 Loss:0.1742\n",
      "Epoch: 7 Batch: 400 Loss:0.1657\n",
      "Epoch: 7 Loss: 0.1824 Time: 189.15\n",
      "\n",
      "Epoch: 8 Batch: 0 Loss:0.1308\n",
      "Epoch: 8 Batch: 100 Loss:0.1020\n",
      "Epoch: 8 Batch: 200 Loss:0.1233\n",
      "Epoch: 8 Batch: 300 Loss:0.1491\n",
      "Epoch: 8 Batch: 400 Loss:0.1745\n",
      "Epoch: 8 Loss: 0.1585 Time: 187.86\n",
      "\n",
      "Epoch: 9 Batch: 0 Loss:0.1498\n",
      "Epoch: 9 Batch: 100 Loss:0.1188\n",
      "Epoch: 9 Batch: 200 Loss:0.1304\n",
      "Epoch: 9 Batch: 300 Loss:0.1215\n",
      "Epoch: 9 Batch: 400 Loss:0.1561\n",
      "Epoch: 9 Loss: 0.1442 Time: 185.93\n",
      "\n",
      "Epoch: 10 Batch: 0 Loss:0.1233\n",
      "Epoch: 10 Batch: 100 Loss:0.1385\n",
      "Epoch: 10 Batch: 200 Loss:0.1075\n",
      "Epoch: 10 Batch: 300 Loss:0.1265\n",
      "Epoch: 10 Batch: 400 Loss:0.1372\n",
      "Epoch: 10 Loss: 0.1325 Time: 189.20\n",
      "\n"
     ]
    }
   ],
   "source": [
    "for ep in range(EPOCHS):\n",
    "    tick = time.time()\n",
    "    total_loss = 0.\n",
    "    \n",
    "    enc_hidden = encoder.init_encoder_hidden()\n",
    "    \n",
    "    for (batch, (inp, target)) in enumerate(dataset):\n",
    "        loss = 0.\n",
    "        \n",
    "        with tf.GradientTape() as tape:\n",
    "            enc_out, dec_hidden = encoder(inp, enc_hidden)\n",
    "            dec_input = tf.expand_dims([target_lng.word2ix['<START>']] * BATCH_SIZE, 1)\n",
    "            \n",
    "            if USE_TEACHER_FORCING:\n",
    "                for t in range(1, target.shape[1]):\n",
    "                    pred, dec_hidden, hid = decoder(dec_input, dec_hidden, enc_out)\n",
    "                    loss += loss_fn(target[:, t], pred)\n",
    "                    dec_input = tf.expand_dims(target[:, t], axis=1)\n",
    "            else:\n",
    "                for t in range(1, target.shape[1]):\n",
    "                    pred, dec_hidden, _ = decoder(dec_input, dec_hidden, enc_out)\n",
    "                    pred = tf.argmax(pred, axis=1)\n",
    "                    dec_input = pred\n",
    "            \n",
    "        \n",
    "        batch_loss = (loss / int(target.shape[1]))\n",
    "        total_loss += batch_loss\n",
    "        variables = encoder.variables + decoder.variables\n",
    "        gradients = tape.gradient(loss, variables)\n",
    "        optimizer.apply_gradients(zip(gradients, variables))\n",
    "        \n",
    "        if batch % 100 == 0:\n",
    "            print(f'Epoch: {ep+1} Batch: {batch} Loss:{batch_loss:.4f}')\n",
    "    \n",
    "    if (ep + 1) % 2 == 0:\n",
    "        checkpoint.save(file_prefix = checkpoint_prefix)\n",
    "    \n",
    "    tock = time.time()\n",
    "    print(f'Epoch: {ep+1} Loss: {total_loss / NUM_BATCHES:.4f} Time: {tock-tick:.2f}\\n')"
   ]
  },
  {
   "cell_type": "code",
   "execution_count": 20,
   "metadata": {
    "colab": {
     "base_uri": "https://localhost:8080/",
     "height": 34
    },
    "colab_type": "code",
    "id": "rQTOQBG3-bPF",
    "outputId": "9a5c65f6-0913-47c5-ff6d-ff1c9f4812b6"
   },
   "outputs": [
    {
     "data": {
      "text/plain": [
       "<tensorflow.python.training.checkpointable.util.CheckpointLoadStatus at 0x7fb8e3fd4358>"
      ]
     },
     "execution_count": 20,
     "metadata": {
      "tags": []
     },
     "output_type": "execute_result"
    }
   ],
   "source": [
    "checkpoint.restore(tf.train.latest_checkpoint(checkpoint_dir))"
   ]
  },
  {
   "cell_type": "code",
   "execution_count": 0,
   "metadata": {
    "colab": {},
    "colab_type": "code",
    "id": "AGHqTOj9T8XJ"
   },
   "outputs": [],
   "source": [
    "def evaluate(txt, encoder, decoder, inp_lng, target_lng, inp_max_len, target_max_len):\n",
    "    txt = preprocess_text(txt)\n",
    "    enc_inp = [inp_lng.word2ix[w] for w in txt.split()]\n",
    "    enc_inp = pad_sequences([enc_inp], maxlen = inp_max_len, padding='post')\n",
    "    enc_inp = tf.convert_to_tensor(enc_inp)\n",
    "    \n",
    "    enc_hidden = tf.zeros((1, HIDDEN_DIM))\n",
    "    enc_out, dec_hidden = encoder(enc_inp, enc_hidden)\n",
    "    dec_inp = tf.expand_dims([target_lng.word2ix['<START>']], axis=0)\n",
    "    decoded = ''\n",
    "    attention_plot = np.zeros((target_max_len, inp_max_len))\n",
    "    \n",
    "    for t in range(target_max_len):\n",
    "        pred, dec_hidden, atten_wts = decoder(dec_inp, dec_hidden, enc_out)\n",
    "        pred_ix = tf.argmax(pred[0]).numpy()\n",
    "        pred_word = target_lng.ix2word[pred_ix]\n",
    "        atten_wts = tf.reshape(atten_wts, (-1,))\n",
    "        attention_plot[t] = atten_wts.numpy()\n",
    "\n",
    "        decoded += pred_word + ' '\n",
    "        dec_inp = tf.expand_dims([pred_ix], axis=0)        \n",
    "        \n",
    "        if pred_word == '<END>':\n",
    "            return txt, decoded, attention_plot"
   ]
  },
  {
   "cell_type": "code",
   "execution_count": 0,
   "metadata": {
    "colab": {},
    "colab_type": "code",
    "id": "Y0PuQ7s9nDZZ"
   },
   "outputs": [],
   "source": [
    "def plot_attention(attention, txt, decoded):\n",
    "    fig = plt.figure(figsize=(10,10))\n",
    "    ax = fig.add_subplot(1, 1, 1)\n",
    "    ax.matshow(attention, cmap='Reds')\n",
    "    \n",
    "    fontdict = {'fontsize': 14}\n",
    "    \n",
    "    ax.set_xticklabels([''] + txt.split(), fontdict=fontdict, rotation=90)\n",
    "    ax.set_yticklabels([''] + decoded.split(), fontdict=fontdict)\n",
    "\n",
    "    plt.show()"
   ]
  },
  {
   "cell_type": "code",
   "execution_count": 0,
   "metadata": {
    "colab": {},
    "colab_type": "code",
    "id": "TW9fv3OfXtRr"
   },
   "outputs": [],
   "source": [
    "def translate(txt, encoder, decoder, inp_lng, target_lng, inp_max_len, target_max_len):\n",
    "    txt, decoded, attention_plot = evaluate(txt, encoder, decoder, inp_lng, target_lng, inp_max_len, target_max_len)\n",
    "    attention = attention_plot[:len(decoded.split()), :len(txt.split())]\n",
    "\n",
    "    print(f'TEXT: {txt}')\n",
    "    print(f'TRANSLATED: {decoded}\\n')\n",
    "    plot_attention(attention, txt, decoded)"
   ]
  },
  {
   "cell_type": "code",
   "execution_count": 24,
   "metadata": {
    "colab": {
     "base_uri": "https://localhost:8080/",
     "height": 641
    },
    "colab_type": "code",
    "id": "JMs5GhXKY91c",
    "outputId": "b2eecb10-bf2a-4396-f528-2c9603e34ab2"
   },
   "outputs": [
    {
     "name": "stdout",
     "output_type": "stream",
     "text": [
      "TEXT: <START> let s go for dinner . <END>\n",
      "TRANSLATED: lasst uns ins abendessen gehen . <END> \n",
      "\n"
     ]
    },
    {
     "data": {
      "image/png": "[encoded data removed]",
      "text/plain": [
       "<matplotlib.figure.Figure at 0x7fb8e28ad4e0>"
      ]
     },
     "metadata": {
      "tags": []
     },
     "output_type": "display_data"
    }
   ],
   "source": [
    "translate(\"Let's go for dinner.\", encoder, decoder, inp_lng, target_lng, inp_max_len, target_max_len)"
   ]
  },
  {
   "cell_type": "code",
   "execution_count": 25,
   "metadata": {
    "colab": {
     "base_uri": "https://localhost:8080/",
     "height": 525
    },
    "colab_type": "code",
    "id": "Rysbrns-6QQj",
    "outputId": "fb4289b6-acb6-4c96-a92c-1c475b34a66f"
   },
   "outputs": [
    {
     "name": "stdout",
     "output_type": "stream",
     "text": [
      "TEXT: <START> i m very happy with it . <END>\n",
      "TRANSLATED: ich bin sehr froh . <END> \n",
      "\n"
     ]
    },
    {
     "data": {
      "image/png": "[encoded data removed]",
      "text/plain": [
       "<matplotlib.figure.Figure at 0x7fb8e18b8198>"
      ]
     },
     "metadata": {
      "tags": []
     },
     "output_type": "display_data"
    }
   ],
   "source": [
    "translate(\"I'm very happy with it.\", encoder, decoder, inp_lng, target_lng, inp_max_len, target_max_len)"
   ]
  },
  {
   "cell_type": "code",
   "execution_count": 26,
   "metadata": {
    "colab": {
     "base_uri": "https://localhost:8080/",
     "height": 587
    },
    "colab_type": "code",
    "id": "Z0H1Db8MsK3v",
    "outputId": "7c45ae44-1765-4433-8e11-89a0e18a0efe"
   },
   "outputs": [
    {
     "name": "stdout",
     "output_type": "stream",
     "text": [
      "TEXT: <START> i won t let you escape . <END>\n",
      "TRANSLATED: ich werde sie nicht hereinlassen . <END> \n",
      "\n"
     ]
    },
    {
     "data": {
      "image/png": "[encoded data removed]",
      "text/plain": [
       "<matplotlib.figure.Figure at 0x7fb8e2945a58>"
      ]
     },
     "metadata": {
      "tags": []
     },
     "output_type": "display_data"
    }
   ],
   "source": [
    "translate(\"I won't let you escape.\", encoder, decoder, inp_lng, target_lng, inp_max_len, target_max_len)"
   ]
  },
  {
   "cell_type": "code",
   "execution_count": 27,
   "metadata": {
    "colab": {
     "base_uri": "https://localhost:8080/",
     "height": 641
    },
    "colab_type": "code",
    "id": "ykhJLR6is5Zw",
    "outputId": "75db92f4-a460-4e11-b15a-4bb6a5074fea"
   },
   "outputs": [
    {
     "name": "stdout",
     "output_type": "stream",
     "text": [
      "TEXT: <START> he will never hurt me . <END>\n",
      "TRANSLATED: er wird mich nie verletzen . <END> \n",
      "\n"
     ]
    },
    {
     "data": {
      "image/png": "[encoded data removed]",
      "text/plain": [
       "<matplotlib.figure.Figure at 0x7fb8e1cc3e10>"
      ]
     },
     "metadata": {
      "tags": []
     },
     "output_type": "display_data"
    }
   ],
   "source": [
    "translate(\"He will never hurt me.\", encoder, decoder, inp_lng, target_lng, inp_max_len, target_max_len)"
   ]
  },
  {
   "cell_type": "code",
   "execution_count": 0,
   "metadata": {
    "colab": {},
    "colab_type": "code",
    "id": "iqI2_4YztAhZ"
   },
   "outputs": [],
   "source": []
  }
 ],
 "metadata": {
  "accelerator": "GPU",
  "colab": {
   "collapsed_sections": [],
   "name": "Copy of nmt-en2deu-attentionv2.ipynb",
   "provenance": [],
   "version": "0.3.2"
  },
  "kernelspec": {
   "display_name": "Python 3",
   "language": "python",
   "name": "python3"
  },
  "language_info": {
   "codemirror_mode": {
    "name": "ipython",
    "version": 3
   },
   "file_extension": ".py",
   "mimetype": "text/x-python",
   "name": "python",
   "nbconvert_exporter": "python",
   "pygments_lexer": "ipython3",
   "version": "3.6.7"
  },
  "varInspector": {
   "cols": {
    "lenName": 16,
    "lenType": 16,
    "lenVar": 40
   },
   "kernels_config": {
    "python": {
     "delete_cmd_postfix": "",
     "delete_cmd_prefix": "del ",
     "library": "var_list.py",
     "varRefreshCmd": "print(var_dic_list())"
    },
    "r": {
     "delete_cmd_postfix": ") ",
     "delete_cmd_prefix": "rm(",
     "library": "var_list.r",
     "varRefreshCmd": "cat(var_dic_list()) "
    }
   },
   "types_to_exclude": [
    "module",
    "function",
    "builtin_function_or_method",
    "instance",
    "_Feature"
   ],
   "window_display": false
  }
 },
 "nbformat": 4,
 "nbformat_minor": 1
}
