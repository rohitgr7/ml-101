{
  "cells": [
    {
      "metadata": {
        "trusted": true,
        "_uuid": "88164b1639dee4d3f092a93e70d0bdc6e474e238"
      },
      "cell_type": "code",
      "source": "import numpy as np\nimport pandas as pd\nimport matplotlib.pyplot as plt\nimport seaborn as sns\nfrom subprocess import check_output\nfrom sklearn.preprocessing import LabelEncoder\n\nimport warnings\nwarnings.filterwarnings('ignore')\n\n%matplotlib inline",
      "execution_count": 2,
      "outputs": []
    },
    {
      "metadata": {
        "trusted": true,
        "_uuid": "5282c49d715cf2327b6a8ac09b69261e0ac3acf9"
      },
      "cell_type": "code",
      "source": "print(check_output(['ls', '../input']).decode('utf8'))",
      "execution_count": 3,
      "outputs": [
        {
          "output_type": "stream",
          "text": "gender_submission.csv\ntest.csv\ntrain.csv\n\n",
          "name": "stdout"
        }
      ]
    },
    {
      "metadata": {
        "trusted": true,
        "_uuid": "daa00baa4dc9d9262d0854572ea595b588ef4cde"
      },
      "cell_type": "code",
      "source": "train_df = pd.read_csv('../input/train.csv')\ntest_df = pd.read_csv('../input/test.csv')\nfinal_res_data = pd.read_csv('../input/test.csv')\ncombine = [train_df, test_df]",
      "execution_count": 4,
      "outputs": []
    },
    {
      "metadata": {
        "trusted": true,
        "_uuid": "ea86b4c18b6f44ae80c04796e7130eed59f5470d"
      },
      "cell_type": "code",
      "source": "train_df.head()",
      "execution_count": 5,
      "outputs": [
        {
          "output_type": "execute_result",
          "execution_count": 5,
          "data": {
            "text/plain": "   PassengerId  Survived  Pclass    ...        Fare Cabin  Embarked\n0            1         0       3    ...      7.2500   NaN         S\n1            2         1       1    ...     71.2833   C85         C\n2            3         1       3    ...      7.9250   NaN         S\n3            4         1       1    ...     53.1000  C123         S\n4            5         0       3    ...      8.0500   NaN         S\n\n[5 rows x 12 columns]",
            "text/html": "<div>\n<style scoped>\n    .dataframe tbody tr th:only-of-type {\n        vertical-align: middle;\n    }\n\n    .dataframe tbody tr th {\n        vertical-align: top;\n    }\n\n    .dataframe thead th {\n        text-align: right;\n    }\n</style>\n<table border=\"1\" class=\"dataframe\">\n  <thead>\n    <tr style=\"text-align: right;\">\n      <th></th>\n      <th>PassengerId</th>\n      <th>Survived</th>\n      <th>Pclass</th>\n      <th>Name</th>\n      <th>Sex</th>\n      <th>Age</th>\n      <th>SibSp</th>\n      <th>Parch</th>\n      <th>Ticket</th>\n      <th>Fare</th>\n      <th>Cabin</th>\n      <th>Embarked</th>\n    </tr>\n  </thead>\n  <tbody>\n    <tr>\n      <th>0</th>\n      <td>1</td>\n      <td>0</td>\n      <td>3</td>\n      <td>Braund, Mr. Owen Harris</td>\n      <td>male</td>\n      <td>22.0</td>\n      <td>1</td>\n      <td>0</td>\n      <td>A/5 21171</td>\n      <td>7.2500</td>\n      <td>NaN</td>\n      <td>S</td>\n    </tr>\n    <tr>\n      <th>1</th>\n      <td>2</td>\n      <td>1</td>\n      <td>1</td>\n      <td>Cumings, Mrs. John Bradley (Florence Briggs Th...</td>\n      <td>female</td>\n      <td>38.0</td>\n      <td>1</td>\n      <td>0</td>\n      <td>PC 17599</td>\n      <td>71.2833</td>\n      <td>C85</td>\n      <td>C</td>\n    </tr>\n    <tr>\n      <th>2</th>\n      <td>3</td>\n      <td>1</td>\n      <td>3</td>\n      <td>Heikkinen, Miss. Laina</td>\n      <td>female</td>\n      <td>26.0</td>\n      <td>0</td>\n      <td>0</td>\n      <td>STON/O2. 3101282</td>\n      <td>7.9250</td>\n      <td>NaN</td>\n      <td>S</td>\n    </tr>\n    <tr>\n      <th>3</th>\n      <td>4</td>\n      <td>1</td>\n      <td>1</td>\n      <td>Futrelle, Mrs. Jacques Heath (Lily May Peel)</td>\n      <td>female</td>\n      <td>35.0</td>\n      <td>1</td>\n      <td>0</td>\n      <td>113803</td>\n      <td>53.1000</td>\n      <td>C123</td>\n      <td>S</td>\n    </tr>\n    <tr>\n      <th>4</th>\n      <td>5</td>\n      <td>0</td>\n      <td>3</td>\n      <td>Allen, Mr. William Henry</td>\n      <td>male</td>\n      <td>35.0</td>\n      <td>0</td>\n      <td>0</td>\n      <td>373450</td>\n      <td>8.0500</td>\n      <td>NaN</td>\n      <td>S</td>\n    </tr>\n  </tbody>\n</table>\n</div>"
          },
          "metadata": {}
        }
      ]
    },
    {
      "metadata": {
        "trusted": true,
        "_uuid": "f24009c1f8a57c124684c142002197f5e31e1904"
      },
      "cell_type": "code",
      "source": "test_df.head()",
      "execution_count": 6,
      "outputs": [
        {
          "output_type": "execute_result",
          "execution_count": 6,
          "data": {
            "text/plain": "   PassengerId  Pclass   ...    Cabin Embarked\n0          892       3   ...      NaN        Q\n1          893       3   ...      NaN        S\n2          894       2   ...      NaN        Q\n3          895       3   ...      NaN        S\n4          896       3   ...      NaN        S\n\n[5 rows x 11 columns]",
            "text/html": "<div>\n<style scoped>\n    .dataframe tbody tr th:only-of-type {\n        vertical-align: middle;\n    }\n\n    .dataframe tbody tr th {\n        vertical-align: top;\n    }\n\n    .dataframe thead th {\n        text-align: right;\n    }\n</style>\n<table border=\"1\" class=\"dataframe\">\n  <thead>\n    <tr style=\"text-align: right;\">\n      <th></th>\n      <th>PassengerId</th>\n      <th>Pclass</th>\n      <th>Name</th>\n      <th>Sex</th>\n      <th>Age</th>\n      <th>SibSp</th>\n      <th>Parch</th>\n      <th>Ticket</th>\n      <th>Fare</th>\n      <th>Cabin</th>\n      <th>Embarked</th>\n    </tr>\n  </thead>\n  <tbody>\n    <tr>\n      <th>0</th>\n      <td>892</td>\n      <td>3</td>\n      <td>Kelly, Mr. James</td>\n      <td>male</td>\n      <td>34.5</td>\n      <td>0</td>\n      <td>0</td>\n      <td>330911</td>\n      <td>7.8292</td>\n      <td>NaN</td>\n      <td>Q</td>\n    </tr>\n    <tr>\n      <th>1</th>\n      <td>893</td>\n      <td>3</td>\n      <td>Wilkes, Mrs. James (Ellen Needs)</td>\n      <td>female</td>\n      <td>47.0</td>\n      <td>1</td>\n      <td>0</td>\n      <td>363272</td>\n      <td>7.0000</td>\n      <td>NaN</td>\n      <td>S</td>\n    </tr>\n    <tr>\n      <th>2</th>\n      <td>894</td>\n      <td>2</td>\n      <td>Myles, Mr. Thomas Francis</td>\n      <td>male</td>\n      <td>62.0</td>\n      <td>0</td>\n      <td>0</td>\n      <td>240276</td>\n      <td>9.6875</td>\n      <td>NaN</td>\n      <td>Q</td>\n    </tr>\n    <tr>\n      <th>3</th>\n      <td>895</td>\n      <td>3</td>\n      <td>Wirz, Mr. Albert</td>\n      <td>male</td>\n      <td>27.0</td>\n      <td>0</td>\n      <td>0</td>\n      <td>315154</td>\n      <td>8.6625</td>\n      <td>NaN</td>\n      <td>S</td>\n    </tr>\n    <tr>\n      <th>4</th>\n      <td>896</td>\n      <td>3</td>\n      <td>Hirvonen, Mrs. Alexander (Helga E Lindqvist)</td>\n      <td>female</td>\n      <td>22.0</td>\n      <td>1</td>\n      <td>1</td>\n      <td>3101298</td>\n      <td>12.2875</td>\n      <td>NaN</td>\n      <td>S</td>\n    </tr>\n  </tbody>\n</table>\n</div>"
          },
          "metadata": {}
        }
      ]
    },
    {
      "metadata": {
        "trusted": true,
        "_uuid": "1f7ea5bbbea3a69ce350972651b13db7354c6088"
      },
      "cell_type": "code",
      "source": "train_df.describe()",
      "execution_count": 7,
      "outputs": [
        {
          "output_type": "execute_result",
          "execution_count": 7,
          "data": {
            "text/plain": "       PassengerId    Survived     ...           Parch        Fare\ncount   891.000000  891.000000     ...      891.000000  891.000000\nmean    446.000000    0.383838     ...        0.381594   32.204208\nstd     257.353842    0.486592     ...        0.806057   49.693429\nmin       1.000000    0.000000     ...        0.000000    0.000000\n25%     223.500000    0.000000     ...        0.000000    7.910400\n50%     446.000000    0.000000     ...        0.000000   14.454200\n75%     668.500000    1.000000     ...        0.000000   31.000000\nmax     891.000000    1.000000     ...        6.000000  512.329200\n\n[8 rows x 7 columns]",
            "text/html": "<div>\n<style scoped>\n    .dataframe tbody tr th:only-of-type {\n        vertical-align: middle;\n    }\n\n    .dataframe tbody tr th {\n        vertical-align: top;\n    }\n\n    .dataframe thead th {\n        text-align: right;\n    }\n</style>\n<table border=\"1\" class=\"dataframe\">\n  <thead>\n    <tr style=\"text-align: right;\">\n      <th></th>\n      <th>PassengerId</th>\n      <th>Survived</th>\n      <th>Pclass</th>\n      <th>Age</th>\n      <th>SibSp</th>\n      <th>Parch</th>\n      <th>Fare</th>\n    </tr>\n  </thead>\n  <tbody>\n    <tr>\n      <th>count</th>\n      <td>891.000000</td>\n      <td>891.000000</td>\n      <td>891.000000</td>\n      <td>714.000000</td>\n      <td>891.000000</td>\n      <td>891.000000</td>\n      <td>891.000000</td>\n    </tr>\n    <tr>\n      <th>mean</th>\n      <td>446.000000</td>\n      <td>0.383838</td>\n      <td>2.308642</td>\n      <td>29.699118</td>\n      <td>0.523008</td>\n      <td>0.381594</td>\n      <td>32.204208</td>\n    </tr>\n    <tr>\n      <th>std</th>\n      <td>257.353842</td>\n      <td>0.486592</td>\n      <td>0.836071</td>\n      <td>14.526497</td>\n      <td>1.102743</td>\n      <td>0.806057</td>\n      <td>49.693429</td>\n    </tr>\n    <tr>\n      <th>min</th>\n      <td>1.000000</td>\n      <td>0.000000</td>\n      <td>1.000000</td>\n      <td>0.420000</td>\n      <td>0.000000</td>\n      <td>0.000000</td>\n      <td>0.000000</td>\n    </tr>\n    <tr>\n      <th>25%</th>\n      <td>223.500000</td>\n      <td>0.000000</td>\n      <td>2.000000</td>\n      <td>20.125000</td>\n      <td>0.000000</td>\n      <td>0.000000</td>\n      <td>7.910400</td>\n    </tr>\n    <tr>\n      <th>50%</th>\n      <td>446.000000</td>\n      <td>0.000000</td>\n      <td>3.000000</td>\n      <td>28.000000</td>\n      <td>0.000000</td>\n      <td>0.000000</td>\n      <td>14.454200</td>\n    </tr>\n    <tr>\n      <th>75%</th>\n      <td>668.500000</td>\n      <td>1.000000</td>\n      <td>3.000000</td>\n      <td>38.000000</td>\n      <td>1.000000</td>\n      <td>0.000000</td>\n      <td>31.000000</td>\n    </tr>\n    <tr>\n      <th>max</th>\n      <td>891.000000</td>\n      <td>1.000000</td>\n      <td>3.000000</td>\n      <td>80.000000</td>\n      <td>8.000000</td>\n      <td>6.000000</td>\n      <td>512.329200</td>\n    </tr>\n  </tbody>\n</table>\n</div>"
          },
          "metadata": {}
        }
      ]
    },
    {
      "metadata": {
        "trusted": true,
        "_uuid": "e4e03632bf2d5aeba0bd8ce2d7711bacee6ac439"
      },
      "cell_type": "code",
      "source": "train_df.info()",
      "execution_count": 8,
      "outputs": [
        {
          "output_type": "stream",
          "text": "<class 'pandas.core.frame.DataFrame'>\nRangeIndex: 891 entries, 0 to 890\nData columns (total 12 columns):\nPassengerId    891 non-null int64\nSurvived       891 non-null int64\nPclass         891 non-null int64\nName           891 non-null object\nSex            891 non-null object\nAge            714 non-null float64\nSibSp          891 non-null int64\nParch          891 non-null int64\nTicket         891 non-null object\nFare           891 non-null float64\nCabin          204 non-null object\nEmbarked       889 non-null object\ndtypes: float64(2), int64(5), object(5)\nmemory usage: 83.6+ KB\n",
          "name": "stdout"
        }
      ]
    },
    {
      "metadata": {
        "trusted": true,
        "_uuid": "944969b3d1f48fa9c25917dcfcd8d22fcb3c5749"
      },
      "cell_type": "code",
      "source": "test_df.describe()",
      "execution_count": 9,
      "outputs": [
        {
          "output_type": "execute_result",
          "execution_count": 9,
          "data": {
            "text/plain": "       PassengerId      Pclass     ...           Parch        Fare\ncount   418.000000  418.000000     ...      418.000000  417.000000\nmean   1100.500000    2.265550     ...        0.392344   35.627188\nstd     120.810458    0.841838     ...        0.981429   55.907576\nmin     892.000000    1.000000     ...        0.000000    0.000000\n25%     996.250000    1.000000     ...        0.000000    7.895800\n50%    1100.500000    3.000000     ...        0.000000   14.454200\n75%    1204.750000    3.000000     ...        0.000000   31.500000\nmax    1309.000000    3.000000     ...        9.000000  512.329200\n\n[8 rows x 6 columns]",
            "text/html": "<div>\n<style scoped>\n    .dataframe tbody tr th:only-of-type {\n        vertical-align: middle;\n    }\n\n    .dataframe tbody tr th {\n        vertical-align: top;\n    }\n\n    .dataframe thead th {\n        text-align: right;\n    }\n</style>\n<table border=\"1\" class=\"dataframe\">\n  <thead>\n    <tr style=\"text-align: right;\">\n      <th></th>\n      <th>PassengerId</th>\n      <th>Pclass</th>\n      <th>Age</th>\n      <th>SibSp</th>\n      <th>Parch</th>\n      <th>Fare</th>\n    </tr>\n  </thead>\n  <tbody>\n    <tr>\n      <th>count</th>\n      <td>418.000000</td>\n      <td>418.000000</td>\n      <td>332.000000</td>\n      <td>418.000000</td>\n      <td>418.000000</td>\n      <td>417.000000</td>\n    </tr>\n    <tr>\n      <th>mean</th>\n      <td>1100.500000</td>\n      <td>2.265550</td>\n      <td>30.272590</td>\n      <td>0.447368</td>\n      <td>0.392344</td>\n      <td>35.627188</td>\n    </tr>\n    <tr>\n      <th>std</th>\n      <td>120.810458</td>\n      <td>0.841838</td>\n      <td>14.181209</td>\n      <td>0.896760</td>\n      <td>0.981429</td>\n      <td>55.907576</td>\n    </tr>\n    <tr>\n      <th>min</th>\n      <td>892.000000</td>\n      <td>1.000000</td>\n      <td>0.170000</td>\n      <td>0.000000</td>\n      <td>0.000000</td>\n      <td>0.000000</td>\n    </tr>\n    <tr>\n      <th>25%</th>\n      <td>996.250000</td>\n      <td>1.000000</td>\n      <td>21.000000</td>\n      <td>0.000000</td>\n      <td>0.000000</td>\n      <td>7.895800</td>\n    </tr>\n    <tr>\n      <th>50%</th>\n      <td>1100.500000</td>\n      <td>3.000000</td>\n      <td>27.000000</td>\n      <td>0.000000</td>\n      <td>0.000000</td>\n      <td>14.454200</td>\n    </tr>\n    <tr>\n      <th>75%</th>\n      <td>1204.750000</td>\n      <td>3.000000</td>\n      <td>39.000000</td>\n      <td>1.000000</td>\n      <td>0.000000</td>\n      <td>31.500000</td>\n    </tr>\n    <tr>\n      <th>max</th>\n      <td>1309.000000</td>\n      <td>3.000000</td>\n      <td>76.000000</td>\n      <td>8.000000</td>\n      <td>9.000000</td>\n      <td>512.329200</td>\n    </tr>\n  </tbody>\n</table>\n</div>"
          },
          "metadata": {}
        }
      ]
    },
    {
      "metadata": {
        "trusted": true,
        "_uuid": "7f0f353aa177d0e2176f6795bb4383270a2bbc5c"
      },
      "cell_type": "code",
      "source": "test_df.info()",
      "execution_count": 10,
      "outputs": [
        {
          "output_type": "stream",
          "text": "<class 'pandas.core.frame.DataFrame'>\nRangeIndex: 418 entries, 0 to 417\nData columns (total 11 columns):\nPassengerId    418 non-null int64\nPclass         418 non-null int64\nName           418 non-null object\nSex            418 non-null object\nAge            332 non-null float64\nSibSp          418 non-null int64\nParch          418 non-null int64\nTicket         418 non-null object\nFare           417 non-null float64\nCabin          91 non-null object\nEmbarked       418 non-null object\ndtypes: float64(2), int64(4), object(5)\nmemory usage: 36.0+ KB\n",
          "name": "stdout"
        }
      ]
    },
    {
      "metadata": {
        "trusted": true,
        "_uuid": "2c568ea3127de1439d73a5df7d23c1f7fbb98c30"
      },
      "cell_type": "code",
      "source": "train_df.isnull().sum()",
      "execution_count": 11,
      "outputs": [
        {
          "output_type": "execute_result",
          "execution_count": 11,
          "data": {
            "text/plain": "PassengerId      0\nSurvived         0\nPclass           0\nName             0\nSex              0\nAge            177\nSibSp            0\nParch            0\nTicket           0\nFare             0\nCabin          687\nEmbarked         2\ndtype: int64"
          },
          "metadata": {}
        }
      ]
    },
    {
      "metadata": {
        "trusted": true,
        "_uuid": "3dbf90228e866349ff5d51b7a5cf7cc1ca978edd"
      },
      "cell_type": "code",
      "source": "test_df.isnull().sum()",
      "execution_count": 12,
      "outputs": [
        {
          "output_type": "execute_result",
          "execution_count": 12,
          "data": {
            "text/plain": "PassengerId      0\nPclass           0\nName             0\nSex              0\nAge             86\nSibSp            0\nParch            0\nTicket           0\nFare             1\nCabin          327\nEmbarked         0\ndtype: int64"
          },
          "metadata": {}
        }
      ]
    },
    {
      "metadata": {
        "trusted": true,
        "_uuid": "5d8166dbbe06c03ab435d04e175941f41c157ddb"
      },
      "cell_type": "code",
      "source": "# This is done after some cells after reliasing the pclass and fare relationships\ntest_df.loc[test_df['Fare'].isnull(), 'Fare'] = 5",
      "execution_count": 13,
      "outputs": []
    },
    {
      "metadata": {
        "trusted": true,
        "_uuid": "247c217cdd931bc9c3494f1600b104f4f901ef4c"
      },
      "cell_type": "code",
      "source": "test_df.isnull().sum()",
      "execution_count": 14,
      "outputs": [
        {
          "output_type": "execute_result",
          "execution_count": 14,
          "data": {
            "text/plain": "PassengerId      0\nPclass           0\nName             0\nSex              0\nAge             86\nSibSp            0\nParch            0\nTicket           0\nFare             0\nCabin          327\nEmbarked         0\ndtype: int64"
          },
          "metadata": {}
        }
      ]
    },
    {
      "metadata": {
        "trusted": true,
        "_uuid": "d118bae135f8de1c71a0505e2ee2335483bc962d"
      },
      "cell_type": "code",
      "source": "sns.countplot(data = train_df, x = 'Embarked')",
      "execution_count": 15,
      "outputs": [
        {
          "output_type": "execute_result",
          "execution_count": 15,
          "data": {
            "text/plain": "<matplotlib.axes._subplots.AxesSubplot at 0x7f9c381537f0>"
          },
          "metadata": {}
        },
        {
          "output_type": "display_data",
          "data": {
            "text/plain": "<Figure size 432x288 with 1 Axes>",
            "image/png": "[encoded data removed]"
          },
          "metadata": {
            "needs_background": "light"
          }
        }
      ]
    },
    {
      "metadata": {
        "trusted": true,
        "_uuid": "440eb3685719d0ed872be9f3a4d919b32b8866ca"
      },
      "cell_type": "code",
      "source": "pd.crosstab(train_df['Embarked'], train_df['Survived'])",
      "execution_count": 16,
      "outputs": [
        {
          "output_type": "execute_result",
          "execution_count": 16,
          "data": {
            "text/plain": "Survived    0    1\nEmbarked          \nC          75   93\nQ          47   30\nS         427  217",
            "text/html": "<div>\n<style scoped>\n    .dataframe tbody tr th:only-of-type {\n        vertical-align: middle;\n    }\n\n    .dataframe tbody tr th {\n        vertical-align: top;\n    }\n\n    .dataframe thead th {\n        text-align: right;\n    }\n</style>\n<table border=\"1\" class=\"dataframe\">\n  <thead>\n    <tr style=\"text-align: right;\">\n      <th>Survived</th>\n      <th>0</th>\n      <th>1</th>\n    </tr>\n    <tr>\n      <th>Embarked</th>\n      <th></th>\n      <th></th>\n    </tr>\n  </thead>\n  <tbody>\n    <tr>\n      <th>C</th>\n      <td>75</td>\n      <td>93</td>\n    </tr>\n    <tr>\n      <th>Q</th>\n      <td>47</td>\n      <td>30</td>\n    </tr>\n    <tr>\n      <th>S</th>\n      <td>427</td>\n      <td>217</td>\n    </tr>\n  </tbody>\n</table>\n</div>"
          },
          "metadata": {}
        }
      ]
    },
    {
      "metadata": {
        "trusted": true,
        "_uuid": "a27e012fb970032dc08238813f971d5b442c2540"
      },
      "cell_type": "code",
      "source": "pd.crosstab(train_df['Embarked'], train_df['Survived'], margins = True)",
      "execution_count": 17,
      "outputs": [
        {
          "output_type": "execute_result",
          "execution_count": 17,
          "data": {
            "text/plain": "Survived    0    1  All\nEmbarked               \nC          75   93  168\nQ          47   30   77\nS         427  217  644\nAll       549  340  889",
            "text/html": "<div>\n<style scoped>\n    .dataframe tbody tr th:only-of-type {\n        vertical-align: middle;\n    }\n\n    .dataframe tbody tr th {\n        vertical-align: top;\n    }\n\n    .dataframe thead th {\n        text-align: right;\n    }\n</style>\n<table border=\"1\" class=\"dataframe\">\n  <thead>\n    <tr style=\"text-align: right;\">\n      <th>Survived</th>\n      <th>0</th>\n      <th>1</th>\n      <th>All</th>\n    </tr>\n    <tr>\n      <th>Embarked</th>\n      <th></th>\n      <th></th>\n      <th></th>\n    </tr>\n  </thead>\n  <tbody>\n    <tr>\n      <th>C</th>\n      <td>75</td>\n      <td>93</td>\n      <td>168</td>\n    </tr>\n    <tr>\n      <th>Q</th>\n      <td>47</td>\n      <td>30</td>\n      <td>77</td>\n    </tr>\n    <tr>\n      <th>S</th>\n      <td>427</td>\n      <td>217</td>\n      <td>644</td>\n    </tr>\n    <tr>\n      <th>All</th>\n      <td>549</td>\n      <td>340</td>\n      <td>889</td>\n    </tr>\n  </tbody>\n</table>\n</div>"
          },
          "metadata": {}
        }
      ]
    },
    {
      "metadata": {
        "trusted": true,
        "_uuid": "7080b38836fccaf73f1f3650dc9b55a8cf3f562c"
      },
      "cell_type": "code",
      "source": "train_df['Embarked'].fillna('S', inplace=True)",
      "execution_count": 18,
      "outputs": []
    },
    {
      "metadata": {
        "trusted": true,
        "_uuid": "3ab4381f5733252fd851af5421961464e3ea3dc5"
      },
      "cell_type": "code",
      "source": "train_df['Embarked'].isnull().any()",
      "execution_count": 19,
      "outputs": [
        {
          "output_type": "execute_result",
          "execution_count": 19,
          "data": {
            "text/plain": "False"
          },
          "metadata": {}
        }
      ]
    },
    {
      "metadata": {
        "trusted": true,
        "_uuid": "2f003849dcbbed0bf1381b8a1a173bfe54678311"
      },
      "cell_type": "code",
      "source": "train_df.head()",
      "execution_count": 20,
      "outputs": [
        {
          "output_type": "execute_result",
          "execution_count": 20,
          "data": {
            "text/plain": "   PassengerId  Survived  Pclass    ...        Fare Cabin  Embarked\n0            1         0       3    ...      7.2500   NaN         S\n1            2         1       1    ...     71.2833   C85         C\n2            3         1       3    ...      7.9250   NaN         S\n3            4         1       1    ...     53.1000  C123         S\n4            5         0       3    ...      8.0500   NaN         S\n\n[5 rows x 12 columns]",
            "text/html": "<div>\n<style scoped>\n    .dataframe tbody tr th:only-of-type {\n        vertical-align: middle;\n    }\n\n    .dataframe tbody tr th {\n        vertical-align: top;\n    }\n\n    .dataframe thead th {\n        text-align: right;\n    }\n</style>\n<table border=\"1\" class=\"dataframe\">\n  <thead>\n    <tr style=\"text-align: right;\">\n      <th></th>\n      <th>PassengerId</th>\n      <th>Survived</th>\n      <th>Pclass</th>\n      <th>Name</th>\n      <th>Sex</th>\n      <th>Age</th>\n      <th>SibSp</th>\n      <th>Parch</th>\n      <th>Ticket</th>\n      <th>Fare</th>\n      <th>Cabin</th>\n      <th>Embarked</th>\n    </tr>\n  </thead>\n  <tbody>\n    <tr>\n      <th>0</th>\n      <td>1</td>\n      <td>0</td>\n      <td>3</td>\n      <td>Braund, Mr. Owen Harris</td>\n      <td>male</td>\n      <td>22.0</td>\n      <td>1</td>\n      <td>0</td>\n      <td>A/5 21171</td>\n      <td>7.2500</td>\n      <td>NaN</td>\n      <td>S</td>\n    </tr>\n    <tr>\n      <th>1</th>\n      <td>2</td>\n      <td>1</td>\n      <td>1</td>\n      <td>Cumings, Mrs. John Bradley (Florence Briggs Th...</td>\n      <td>female</td>\n      <td>38.0</td>\n      <td>1</td>\n      <td>0</td>\n      <td>PC 17599</td>\n      <td>71.2833</td>\n      <td>C85</td>\n      <td>C</td>\n    </tr>\n    <tr>\n      <th>2</th>\n      <td>3</td>\n      <td>1</td>\n      <td>3</td>\n      <td>Heikkinen, Miss. Laina</td>\n      <td>female</td>\n      <td>26.0</td>\n      <td>0</td>\n      <td>0</td>\n      <td>STON/O2. 3101282</td>\n      <td>7.9250</td>\n      <td>NaN</td>\n      <td>S</td>\n    </tr>\n    <tr>\n      <th>3</th>\n      <td>4</td>\n      <td>1</td>\n      <td>1</td>\n      <td>Futrelle, Mrs. Jacques Heath (Lily May Peel)</td>\n      <td>female</td>\n      <td>35.0</td>\n      <td>1</td>\n      <td>0</td>\n      <td>113803</td>\n      <td>53.1000</td>\n      <td>C123</td>\n      <td>S</td>\n    </tr>\n    <tr>\n      <th>4</th>\n      <td>5</td>\n      <td>0</td>\n      <td>3</td>\n      <td>Allen, Mr. William Henry</td>\n      <td>male</td>\n      <td>35.0</td>\n      <td>0</td>\n      <td>0</td>\n      <td>373450</td>\n      <td>8.0500</td>\n      <td>NaN</td>\n      <td>S</td>\n    </tr>\n  </tbody>\n</table>\n</div>"
          },
          "metadata": {}
        }
      ]
    },
    {
      "metadata": {
        "trusted": true,
        "_uuid": "1e648c14d9a65f42810af0d99c9d513bbc18dafd"
      },
      "cell_type": "code",
      "source": "train_df.head()",
      "execution_count": 21,
      "outputs": [
        {
          "output_type": "execute_result",
          "execution_count": 21,
          "data": {
            "text/plain": "   PassengerId  Survived  Pclass    ...        Fare Cabin  Embarked\n0            1         0       3    ...      7.2500   NaN         S\n1            2         1       1    ...     71.2833   C85         C\n2            3         1       3    ...      7.9250   NaN         S\n3            4         1       1    ...     53.1000  C123         S\n4            5         0       3    ...      8.0500   NaN         S\n\n[5 rows x 12 columns]",
            "text/html": "<div>\n<style scoped>\n    .dataframe tbody tr th:only-of-type {\n        vertical-align: middle;\n    }\n\n    .dataframe tbody tr th {\n        vertical-align: top;\n    }\n\n    .dataframe thead th {\n        text-align: right;\n    }\n</style>\n<table border=\"1\" class=\"dataframe\">\n  <thead>\n    <tr style=\"text-align: right;\">\n      <th></th>\n      <th>PassengerId</th>\n      <th>Survived</th>\n      <th>Pclass</th>\n      <th>Name</th>\n      <th>Sex</th>\n      <th>Age</th>\n      <th>SibSp</th>\n      <th>Parch</th>\n      <th>Ticket</th>\n      <th>Fare</th>\n      <th>Cabin</th>\n      <th>Embarked</th>\n    </tr>\n  </thead>\n  <tbody>\n    <tr>\n      <th>0</th>\n      <td>1</td>\n      <td>0</td>\n      <td>3</td>\n      <td>Braund, Mr. Owen Harris</td>\n      <td>male</td>\n      <td>22.0</td>\n      <td>1</td>\n      <td>0</td>\n      <td>A/5 21171</td>\n      <td>7.2500</td>\n      <td>NaN</td>\n      <td>S</td>\n    </tr>\n    <tr>\n      <th>1</th>\n      <td>2</td>\n      <td>1</td>\n      <td>1</td>\n      <td>Cumings, Mrs. John Bradley (Florence Briggs Th...</td>\n      <td>female</td>\n      <td>38.0</td>\n      <td>1</td>\n      <td>0</td>\n      <td>PC 17599</td>\n      <td>71.2833</td>\n      <td>C85</td>\n      <td>C</td>\n    </tr>\n    <tr>\n      <th>2</th>\n      <td>3</td>\n      <td>1</td>\n      <td>3</td>\n      <td>Heikkinen, Miss. Laina</td>\n      <td>female</td>\n      <td>26.0</td>\n      <td>0</td>\n      <td>0</td>\n      <td>STON/O2. 3101282</td>\n      <td>7.9250</td>\n      <td>NaN</td>\n      <td>S</td>\n    </tr>\n    <tr>\n      <th>3</th>\n      <td>4</td>\n      <td>1</td>\n      <td>1</td>\n      <td>Futrelle, Mrs. Jacques Heath (Lily May Peel)</td>\n      <td>female</td>\n      <td>35.0</td>\n      <td>1</td>\n      <td>0</td>\n      <td>113803</td>\n      <td>53.1000</td>\n      <td>C123</td>\n      <td>S</td>\n    </tr>\n    <tr>\n      <th>4</th>\n      <td>5</td>\n      <td>0</td>\n      <td>3</td>\n      <td>Allen, Mr. William Henry</td>\n      <td>male</td>\n      <td>35.0</td>\n      <td>0</td>\n      <td>0</td>\n      <td>373450</td>\n      <td>8.0500</td>\n      <td>NaN</td>\n      <td>S</td>\n    </tr>\n  </tbody>\n</table>\n</div>"
          },
          "metadata": {}
        }
      ]
    },
    {
      "metadata": {
        "trusted": true,
        "_uuid": "0a44aa26b2216c96e1146ac41520cf7ac342f22c"
      },
      "cell_type": "code",
      "source": "for dataset in combine:\n    dataset['isAlone'] = 0\n    dataset['FamilySize'] = train_df['SibSp'] + train_df['Parch'] + 1\n    dataset.loc[dataset['FamilySize'] == 1, 'isAlone'] = 1",
      "execution_count": 22,
      "outputs": []
    },
    {
      "metadata": {
        "trusted": true,
        "_uuid": "ac22c464257c46c7abbcf403fde57574354292cf"
      },
      "cell_type": "code",
      "source": "train_df.head()",
      "execution_count": 23,
      "outputs": [
        {
          "output_type": "execute_result",
          "execution_count": 23,
          "data": {
            "text/plain": "   PassengerId  Survived  Pclass     ...     Embarked isAlone  FamilySize\n0            1         0       3     ...            S       0           2\n1            2         1       1     ...            C       0           2\n2            3         1       3     ...            S       1           1\n3            4         1       1     ...            S       0           2\n4            5         0       3     ...            S       1           1\n\n[5 rows x 14 columns]",
            "text/html": "<div>\n<style scoped>\n    .dataframe tbody tr th:only-of-type {\n        vertical-align: middle;\n    }\n\n    .dataframe tbody tr th {\n        vertical-align: top;\n    }\n\n    .dataframe thead th {\n        text-align: right;\n    }\n</style>\n<table border=\"1\" class=\"dataframe\">\n  <thead>\n    <tr style=\"text-align: right;\">\n      <th></th>\n      <th>PassengerId</th>\n      <th>Survived</th>\n      <th>Pclass</th>\n      <th>Name</th>\n      <th>Sex</th>\n      <th>Age</th>\n      <th>SibSp</th>\n      <th>Parch</th>\n      <th>Ticket</th>\n      <th>Fare</th>\n      <th>Cabin</th>\n      <th>Embarked</th>\n      <th>isAlone</th>\n      <th>FamilySize</th>\n    </tr>\n  </thead>\n  <tbody>\n    <tr>\n      <th>0</th>\n      <td>1</td>\n      <td>0</td>\n      <td>3</td>\n      <td>Braund, Mr. Owen Harris</td>\n      <td>male</td>\n      <td>22.0</td>\n      <td>1</td>\n      <td>0</td>\n      <td>A/5 21171</td>\n      <td>7.2500</td>\n      <td>NaN</td>\n      <td>S</td>\n      <td>0</td>\n      <td>2</td>\n    </tr>\n    <tr>\n      <th>1</th>\n      <td>2</td>\n      <td>1</td>\n      <td>1</td>\n      <td>Cumings, Mrs. John Bradley (Florence Briggs Th...</td>\n      <td>female</td>\n      <td>38.0</td>\n      <td>1</td>\n      <td>0</td>\n      <td>PC 17599</td>\n      <td>71.2833</td>\n      <td>C85</td>\n      <td>C</td>\n      <td>0</td>\n      <td>2</td>\n    </tr>\n    <tr>\n      <th>2</th>\n      <td>3</td>\n      <td>1</td>\n      <td>3</td>\n      <td>Heikkinen, Miss. Laina</td>\n      <td>female</td>\n      <td>26.0</td>\n      <td>0</td>\n      <td>0</td>\n      <td>STON/O2. 3101282</td>\n      <td>7.9250</td>\n      <td>NaN</td>\n      <td>S</td>\n      <td>1</td>\n      <td>1</td>\n    </tr>\n    <tr>\n      <th>3</th>\n      <td>4</td>\n      <td>1</td>\n      <td>1</td>\n      <td>Futrelle, Mrs. Jacques Heath (Lily May Peel)</td>\n      <td>female</td>\n      <td>35.0</td>\n      <td>1</td>\n      <td>0</td>\n      <td>113803</td>\n      <td>53.1000</td>\n      <td>C123</td>\n      <td>S</td>\n      <td>0</td>\n      <td>2</td>\n    </tr>\n    <tr>\n      <th>4</th>\n      <td>5</td>\n      <td>0</td>\n      <td>3</td>\n      <td>Allen, Mr. William Henry</td>\n      <td>male</td>\n      <td>35.0</td>\n      <td>0</td>\n      <td>0</td>\n      <td>373450</td>\n      <td>8.0500</td>\n      <td>NaN</td>\n      <td>S</td>\n      <td>1</td>\n      <td>1</td>\n    </tr>\n  </tbody>\n</table>\n</div>"
          },
          "metadata": {}
        }
      ]
    },
    {
      "metadata": {
        "trusted": true,
        "_uuid": "e588dab80b015561f99c409993427bbc7a067940"
      },
      "cell_type": "code",
      "source": "all_data = pd.concat([train_df, test_df], sort = False, ignore_index = True)\nall_data.tail()\nall_data['LastName'] = all_data['Name'].apply(lambda x: str.split(x, ',')[0])\nall_data['FamilySurvival'] = 0.5\nall_data.head(2)",
      "execution_count": 24,
      "outputs": [
        {
          "output_type": "execute_result",
          "execution_count": 24,
          "data": {
            "text/plain": "   PassengerId  Survived      ...        LastName FamilySurvival\n0            1       0.0      ...          Braund            0.5\n1            2       1.0      ...         Cumings            0.5\n\n[2 rows x 16 columns]",
            "text/html": "<div>\n<style scoped>\n    .dataframe tbody tr th:only-of-type {\n        vertical-align: middle;\n    }\n\n    .dataframe tbody tr th {\n        vertical-align: top;\n    }\n\n    .dataframe thead th {\n        text-align: right;\n    }\n</style>\n<table border=\"1\" class=\"dataframe\">\n  <thead>\n    <tr style=\"text-align: right;\">\n      <th></th>\n      <th>PassengerId</th>\n      <th>Survived</th>\n      <th>Pclass</th>\n      <th>Name</th>\n      <th>Sex</th>\n      <th>Age</th>\n      <th>SibSp</th>\n      <th>Parch</th>\n      <th>Ticket</th>\n      <th>Fare</th>\n      <th>Cabin</th>\n      <th>Embarked</th>\n      <th>isAlone</th>\n      <th>FamilySize</th>\n      <th>LastName</th>\n      <th>FamilySurvival</th>\n    </tr>\n  </thead>\n  <tbody>\n    <tr>\n      <th>0</th>\n      <td>1</td>\n      <td>0.0</td>\n      <td>3</td>\n      <td>Braund, Mr. Owen Harris</td>\n      <td>male</td>\n      <td>22.0</td>\n      <td>1</td>\n      <td>0</td>\n      <td>A/5 21171</td>\n      <td>7.2500</td>\n      <td>NaN</td>\n      <td>S</td>\n      <td>0</td>\n      <td>2</td>\n      <td>Braund</td>\n      <td>0.5</td>\n    </tr>\n    <tr>\n      <th>1</th>\n      <td>2</td>\n      <td>1.0</td>\n      <td>1</td>\n      <td>Cumings, Mrs. John Bradley (Florence Briggs Th...</td>\n      <td>female</td>\n      <td>38.0</td>\n      <td>1</td>\n      <td>0</td>\n      <td>PC 17599</td>\n      <td>71.2833</td>\n      <td>C85</td>\n      <td>C</td>\n      <td>0</td>\n      <td>2</td>\n      <td>Cumings</td>\n      <td>0.5</td>\n    </tr>\n  </tbody>\n</table>\n</div>"
          },
          "metadata": {}
        }
      ]
    },
    {
      "metadata": {
        "trusted": true,
        "_uuid": "1273837ad31591c0aafcdecb8ec0977b49f4950f"
      },
      "cell_type": "code",
      "source": "for grp, grp_df in all_data.groupby(['LastName', 'Fare']):\n    if (len(grp_df) != 1):\n        for ind, row in grp_df.iterrows():\n            smax = grp_df.drop(ind)['Survived'].max()\n            smin = grp_df.drop(ind)['Survived'].min()\n\n            pass_id = row['PassengerId']\n            if (smax == 1):\n                all_data.loc[all_data['PassengerId'] == pass_id, 'FamilySurvival'] = 1\n            elif (smin == 0):\n                all_data.loc[all_data['PassengerId'] == pass_id, 'FamilySurvival'] = 0",
      "execution_count": 25,
      "outputs": []
    },
    {
      "metadata": {
        "trusted": true,
        "_uuid": "c649347cbf094fb4627086ee9d8fe126239ed2bc"
      },
      "cell_type": "code",
      "source": "for grp, grp_df in all_data.groupby('Ticket'):\n    if (len(grp_df) != 1):\n        for ind, row in grp_df.iterrows():\n            if (row['FamilySurvival'] == 0) | (row['FamilySurvival']== 0.5):\n                smax = grp_df.drop(ind)['Survived'].max()\n                smin = grp_df.drop(ind)['Survived'].min()\n\n                pass_id = row['PassengerId']\n                if (smax == 1):\n                    all_data.loc[all_data['PassengerId'] == pass_id, 'FamilySurvival'] = 1\n                elif (smin == 0):\n                    all_data.loc[all_data['PassengerId'] == pass_id, 'FamilySurvival'] = 0\n\ntrain_df['FamilySurvival'] = all_data['FamilySurvival'][:891]\ntest_df['FamilySurvival'] = np.array(all_data['FamilySurvival'][891:])",
      "execution_count": 26,
      "outputs": []
    },
    {
      "metadata": {
        "trusted": true,
        "_uuid": "52d8cf6fa1e902f9054e160064e2741b8fa9f70f"
      },
      "cell_type": "code",
      "source": "test_df['FamilySurvival'].unique()",
      "execution_count": 27,
      "outputs": [
        {
          "output_type": "execute_result",
          "execution_count": 27,
          "data": {
            "text/plain": "array([0.5, 1. , 0. ])"
          },
          "metadata": {}
        }
      ]
    },
    {
      "metadata": {
        "trusted": true,
        "_uuid": "fa9e8091375f5c6832d5ce8fb02674e2dc1374b8"
      },
      "cell_type": "code",
      "source": "train_df[['isAlone', 'Survived']].groupby('isAlone').mean()",
      "execution_count": 28,
      "outputs": [
        {
          "output_type": "execute_result",
          "execution_count": 28,
          "data": {
            "text/plain": "         Survived\nisAlone          \n0        0.505650\n1        0.303538",
            "text/html": "<div>\n<style scoped>\n    .dataframe tbody tr th:only-of-type {\n        vertical-align: middle;\n    }\n\n    .dataframe tbody tr th {\n        vertical-align: top;\n    }\n\n    .dataframe thead th {\n        text-align: right;\n    }\n</style>\n<table border=\"1\" class=\"dataframe\">\n  <thead>\n    <tr style=\"text-align: right;\">\n      <th></th>\n      <th>Survived</th>\n    </tr>\n    <tr>\n      <th>isAlone</th>\n      <th></th>\n    </tr>\n  </thead>\n  <tbody>\n    <tr>\n      <th>0</th>\n      <td>0.505650</td>\n    </tr>\n    <tr>\n      <th>1</th>\n      <td>0.303538</td>\n    </tr>\n  </tbody>\n</table>\n</div>"
          },
          "metadata": {}
        }
      ]
    },
    {
      "metadata": {
        "trusted": true,
        "_uuid": "8c596f1aa1e23747212cc62c5ad363433fe555e7"
      },
      "cell_type": "code",
      "source": "for dataset in combine:\n    dataset.drop(['SibSp', 'Parch', 'FamilySize', 'PassengerId', 'Ticket', 'Cabin'], axis = 1, inplace = True)",
      "execution_count": 29,
      "outputs": []
    },
    {
      "metadata": {
        "trusted": true,
        "_uuid": "d2237e2defb31d637c4ff2d062702589fd753c9a"
      },
      "cell_type": "code",
      "source": "train_df.head()",
      "execution_count": 30,
      "outputs": [
        {
          "output_type": "execute_result",
          "execution_count": 30,
          "data": {
            "text/plain": "   Survived  Pclass      ...       isAlone FamilySurvival\n0         0       3      ...             0            0.5\n1         1       1      ...             0            0.5\n2         1       3      ...             1            0.5\n3         1       1      ...             0            0.0\n4         0       3      ...             1            0.5\n\n[5 rows x 9 columns]",
            "text/html": "<div>\n<style scoped>\n    .dataframe tbody tr th:only-of-type {\n        vertical-align: middle;\n    }\n\n    .dataframe tbody tr th {\n        vertical-align: top;\n    }\n\n    .dataframe thead th {\n        text-align: right;\n    }\n</style>\n<table border=\"1\" class=\"dataframe\">\n  <thead>\n    <tr style=\"text-align: right;\">\n      <th></th>\n      <th>Survived</th>\n      <th>Pclass</th>\n      <th>Name</th>\n      <th>Sex</th>\n      <th>Age</th>\n      <th>Fare</th>\n      <th>Embarked</th>\n      <th>isAlone</th>\n      <th>FamilySurvival</th>\n    </tr>\n  </thead>\n  <tbody>\n    <tr>\n      <th>0</th>\n      <td>0</td>\n      <td>3</td>\n      <td>Braund, Mr. Owen Harris</td>\n      <td>male</td>\n      <td>22.0</td>\n      <td>7.2500</td>\n      <td>S</td>\n      <td>0</td>\n      <td>0.5</td>\n    </tr>\n    <tr>\n      <th>1</th>\n      <td>1</td>\n      <td>1</td>\n      <td>Cumings, Mrs. John Bradley (Florence Briggs Th...</td>\n      <td>female</td>\n      <td>38.0</td>\n      <td>71.2833</td>\n      <td>C</td>\n      <td>0</td>\n      <td>0.5</td>\n    </tr>\n    <tr>\n      <th>2</th>\n      <td>1</td>\n      <td>3</td>\n      <td>Heikkinen, Miss. Laina</td>\n      <td>female</td>\n      <td>26.0</td>\n      <td>7.9250</td>\n      <td>S</td>\n      <td>1</td>\n      <td>0.5</td>\n    </tr>\n    <tr>\n      <th>3</th>\n      <td>1</td>\n      <td>1</td>\n      <td>Futrelle, Mrs. Jacques Heath (Lily May Peel)</td>\n      <td>female</td>\n      <td>35.0</td>\n      <td>53.1000</td>\n      <td>S</td>\n      <td>0</td>\n      <td>0.0</td>\n    </tr>\n    <tr>\n      <th>4</th>\n      <td>0</td>\n      <td>3</td>\n      <td>Allen, Mr. William Henry</td>\n      <td>male</td>\n      <td>35.0</td>\n      <td>8.0500</td>\n      <td>S</td>\n      <td>1</td>\n      <td>0.5</td>\n    </tr>\n  </tbody>\n</table>\n</div>"
          },
          "metadata": {}
        }
      ]
    },
    {
      "metadata": {
        "trusted": true,
        "_uuid": "b1cc6b571ebdf431fa0c244807e2e48898632a76"
      },
      "cell_type": "code",
      "source": "train_df.tail()",
      "execution_count": 31,
      "outputs": [
        {
          "output_type": "execute_result",
          "execution_count": 31,
          "data": {
            "text/plain": "     Survived  Pclass      ...       isAlone FamilySurvival\n886         0       2      ...             1            0.5\n887         1       1      ...             1            0.5\n888         0       3      ...             0            0.0\n889         1       1      ...             1            0.5\n890         0       3      ...             1            0.5\n\n[5 rows x 9 columns]",
            "text/html": "<div>\n<style scoped>\n    .dataframe tbody tr th:only-of-type {\n        vertical-align: middle;\n    }\n\n    .dataframe tbody tr th {\n        vertical-align: top;\n    }\n\n    .dataframe thead th {\n        text-align: right;\n    }\n</style>\n<table border=\"1\" class=\"dataframe\">\n  <thead>\n    <tr style=\"text-align: right;\">\n      <th></th>\n      <th>Survived</th>\n      <th>Pclass</th>\n      <th>Name</th>\n      <th>Sex</th>\n      <th>Age</th>\n      <th>Fare</th>\n      <th>Embarked</th>\n      <th>isAlone</th>\n      <th>FamilySurvival</th>\n    </tr>\n  </thead>\n  <tbody>\n    <tr>\n      <th>886</th>\n      <td>0</td>\n      <td>2</td>\n      <td>Montvila, Rev. Juozas</td>\n      <td>male</td>\n      <td>27.0</td>\n      <td>13.00</td>\n      <td>S</td>\n      <td>1</td>\n      <td>0.5</td>\n    </tr>\n    <tr>\n      <th>887</th>\n      <td>1</td>\n      <td>1</td>\n      <td>Graham, Miss. Margaret Edith</td>\n      <td>female</td>\n      <td>19.0</td>\n      <td>30.00</td>\n      <td>S</td>\n      <td>1</td>\n      <td>0.5</td>\n    </tr>\n    <tr>\n      <th>888</th>\n      <td>0</td>\n      <td>3</td>\n      <td>Johnston, Miss. Catherine Helen \"Carrie\"</td>\n      <td>female</td>\n      <td>NaN</td>\n      <td>23.45</td>\n      <td>S</td>\n      <td>0</td>\n      <td>0.0</td>\n    </tr>\n    <tr>\n      <th>889</th>\n      <td>1</td>\n      <td>1</td>\n      <td>Behr, Mr. Karl Howell</td>\n      <td>male</td>\n      <td>26.0</td>\n      <td>30.00</td>\n      <td>C</td>\n      <td>1</td>\n      <td>0.5</td>\n    </tr>\n    <tr>\n      <th>890</th>\n      <td>0</td>\n      <td>3</td>\n      <td>Dooley, Mr. Patrick</td>\n      <td>male</td>\n      <td>32.0</td>\n      <td>7.75</td>\n      <td>Q</td>\n      <td>1</td>\n      <td>0.5</td>\n    </tr>\n  </tbody>\n</table>\n</div>"
          },
          "metadata": {}
        }
      ]
    },
    {
      "metadata": {
        "trusted": true,
        "_uuid": "0bce824311e51be55394f4697ccee547e5085b89"
      },
      "cell_type": "code",
      "source": "pd.crosstab(train_df['Pclass'], train_df['Survived'], margins = True)",
      "execution_count": 32,
      "outputs": [
        {
          "output_type": "execute_result",
          "execution_count": 32,
          "data": {
            "text/plain": "Survived    0    1  All\nPclass                 \n1          80  136  216\n2          97   87  184\n3         372  119  491\nAll       549  342  891",
            "text/html": "<div>\n<style scoped>\n    .dataframe tbody tr th:only-of-type {\n        vertical-align: middle;\n    }\n\n    .dataframe tbody tr th {\n        vertical-align: top;\n    }\n\n    .dataframe thead th {\n        text-align: right;\n    }\n</style>\n<table border=\"1\" class=\"dataframe\">\n  <thead>\n    <tr style=\"text-align: right;\">\n      <th>Survived</th>\n      <th>0</th>\n      <th>1</th>\n      <th>All</th>\n    </tr>\n    <tr>\n      <th>Pclass</th>\n      <th></th>\n      <th></th>\n      <th></th>\n    </tr>\n  </thead>\n  <tbody>\n    <tr>\n      <th>1</th>\n      <td>80</td>\n      <td>136</td>\n      <td>216</td>\n    </tr>\n    <tr>\n      <th>2</th>\n      <td>97</td>\n      <td>87</td>\n      <td>184</td>\n    </tr>\n    <tr>\n      <th>3</th>\n      <td>372</td>\n      <td>119</td>\n      <td>491</td>\n    </tr>\n    <tr>\n      <th>All</th>\n      <td>549</td>\n      <td>342</td>\n      <td>891</td>\n    </tr>\n  </tbody>\n</table>\n</div>"
          },
          "metadata": {}
        }
      ]
    },
    {
      "metadata": {
        "trusted": true,
        "_uuid": "c22c1bcfeb844b00e05f26859287025224eec3d9"
      },
      "cell_type": "code",
      "source": "plt.hist(train_df['Fare'], bins = 20)",
      "execution_count": 33,
      "outputs": [
        {
          "output_type": "execute_result",
          "execution_count": 33,
          "data": {
            "text/plain": "(array([562., 170.,  67.,  39.,  15.,  16.,   2.,   0.,   9.,   2.,   6.,\n          0.,   0.,   0.,   0.,   0.,   0.,   0.,   0.,   3.]),\n array([  0.     ,  25.61646,  51.23292,  76.84938, 102.46584, 128.0823 ,\n        153.69876, 179.31522, 204.93168, 230.54814, 256.1646 , 281.78106,\n        307.39752, 333.01398, 358.63044, 384.2469 , 409.86336, 435.47982,\n        461.09628, 486.71274, 512.3292 ]),\n <a list of 20 Patch objects>)"
          },
          "metadata": {}
        },
        {
          "output_type": "display_data",
          "data": {
            "text/plain": "<Figure size 432x288 with 1 Axes>",
            "image/png": "[encoded data removed]"
          },
          "metadata": {
            "needs_background": "light"
          }
        }
      ]
    },
    {
      "metadata": {
        "trusted": true,
        "_uuid": "053992a03157662f2349c5f4725a197eb7b48976"
      },
      "cell_type": "code",
      "source": "train_df['FareGroup'] = pd.qcut(train_df['Fare'], 4)\ntrain_df[['FareGroup', 'Survived']].groupby('FareGroup')['Survived'].mean()",
      "execution_count": 34,
      "outputs": [
        {
          "output_type": "execute_result",
          "execution_count": 34,
          "data": {
            "text/plain": "FareGroup\n(-0.001, 7.91]     0.197309\n(7.91, 14.454]     0.303571\n(14.454, 31.0]     0.454955\n(31.0, 512.329]    0.581081\nName: Survived, dtype: float64"
          },
          "metadata": {}
        }
      ]
    },
    {
      "metadata": {
        "trusted": true,
        "_uuid": "6764579a9becd7b06734e61d61b14c846f1f6915"
      },
      "cell_type": "code",
      "source": "for dataset in combine:\n    dataset['FareGroup'] = pd.qcut(dataset['Fare'], 4)\n    dataset.drop('Fare', axis = 1, inplace = True)",
      "execution_count": 35,
      "outputs": []
    },
    {
      "metadata": {
        "trusted": true,
        "_uuid": "db7dd80fdf22ae7290fc768c9aa761d8e77bfcee"
      },
      "cell_type": "code",
      "source": "train_df.head()",
      "execution_count": 36,
      "outputs": [
        {
          "output_type": "execute_result",
          "execution_count": 36,
          "data": {
            "text/plain": "   Survived  Pclass       ...        FamilySurvival        FareGroup\n0         0       3       ...                   0.5   (-0.001, 7.91]\n1         1       1       ...                   0.5  (31.0, 512.329]\n2         1       3       ...                   0.5   (7.91, 14.454]\n3         1       1       ...                   0.0  (31.0, 512.329]\n4         0       3       ...                   0.5   (7.91, 14.454]\n\n[5 rows x 9 columns]",
            "text/html": "<div>\n<style scoped>\n    .dataframe tbody tr th:only-of-type {\n        vertical-align: middle;\n    }\n\n    .dataframe tbody tr th {\n        vertical-align: top;\n    }\n\n    .dataframe thead th {\n        text-align: right;\n    }\n</style>\n<table border=\"1\" class=\"dataframe\">\n  <thead>\n    <tr style=\"text-align: right;\">\n      <th></th>\n      <th>Survived</th>\n      <th>Pclass</th>\n      <th>Name</th>\n      <th>Sex</th>\n      <th>Age</th>\n      <th>Embarked</th>\n      <th>isAlone</th>\n      <th>FamilySurvival</th>\n      <th>FareGroup</th>\n    </tr>\n  </thead>\n  <tbody>\n    <tr>\n      <th>0</th>\n      <td>0</td>\n      <td>3</td>\n      <td>Braund, Mr. Owen Harris</td>\n      <td>male</td>\n      <td>22.0</td>\n      <td>S</td>\n      <td>0</td>\n      <td>0.5</td>\n      <td>(-0.001, 7.91]</td>\n    </tr>\n    <tr>\n      <th>1</th>\n      <td>1</td>\n      <td>1</td>\n      <td>Cumings, Mrs. John Bradley (Florence Briggs Th...</td>\n      <td>female</td>\n      <td>38.0</td>\n      <td>C</td>\n      <td>0</td>\n      <td>0.5</td>\n      <td>(31.0, 512.329]</td>\n    </tr>\n    <tr>\n      <th>2</th>\n      <td>1</td>\n      <td>3</td>\n      <td>Heikkinen, Miss. Laina</td>\n      <td>female</td>\n      <td>26.0</td>\n      <td>S</td>\n      <td>1</td>\n      <td>0.5</td>\n      <td>(7.91, 14.454]</td>\n    </tr>\n    <tr>\n      <th>3</th>\n      <td>1</td>\n      <td>1</td>\n      <td>Futrelle, Mrs. Jacques Heath (Lily May Peel)</td>\n      <td>female</td>\n      <td>35.0</td>\n      <td>S</td>\n      <td>0</td>\n      <td>0.0</td>\n      <td>(31.0, 512.329]</td>\n    </tr>\n    <tr>\n      <th>4</th>\n      <td>0</td>\n      <td>3</td>\n      <td>Allen, Mr. William Henry</td>\n      <td>male</td>\n      <td>35.0</td>\n      <td>S</td>\n      <td>1</td>\n      <td>0.5</td>\n      <td>(7.91, 14.454]</td>\n    </tr>\n  </tbody>\n</table>\n</div>"
          },
          "metadata": {}
        }
      ]
    },
    {
      "metadata": {
        "trusted": true,
        "_uuid": "c28dfdbecd7daf3a08b59b5cd3edf2173e70e4c7"
      },
      "cell_type": "code",
      "source": "pd.crosstab([train_df['Pclass'], train_df['Sex']], train_df['Survived'], margins = True)",
      "execution_count": 37,
      "outputs": [
        {
          "output_type": "execute_result",
          "execution_count": 37,
          "data": {
            "text/plain": "Survived         0    1  All\nPclass Sex                  \n1      female    3   91   94\n       male     77   45  122\n2      female    6   70   76\n       male     91   17  108\n3      female   72   72  144\n       male    300   47  347\nAll            549  342  891",
            "text/html": "<div>\n<style scoped>\n    .dataframe tbody tr th:only-of-type {\n        vertical-align: middle;\n    }\n\n    .dataframe tbody tr th {\n        vertical-align: top;\n    }\n\n    .dataframe thead th {\n        text-align: right;\n    }\n</style>\n<table border=\"1\" class=\"dataframe\">\n  <thead>\n    <tr style=\"text-align: right;\">\n      <th></th>\n      <th>Survived</th>\n      <th>0</th>\n      <th>1</th>\n      <th>All</th>\n    </tr>\n    <tr>\n      <th>Pclass</th>\n      <th>Sex</th>\n      <th></th>\n      <th></th>\n      <th></th>\n    </tr>\n  </thead>\n  <tbody>\n    <tr>\n      <th rowspan=\"2\" valign=\"top\">1</th>\n      <th>female</th>\n      <td>3</td>\n      <td>91</td>\n      <td>94</td>\n    </tr>\n    <tr>\n      <th>male</th>\n      <td>77</td>\n      <td>45</td>\n      <td>122</td>\n    </tr>\n    <tr>\n      <th rowspan=\"2\" valign=\"top\">2</th>\n      <th>female</th>\n      <td>6</td>\n      <td>70</td>\n      <td>76</td>\n    </tr>\n    <tr>\n      <th>male</th>\n      <td>91</td>\n      <td>17</td>\n      <td>108</td>\n    </tr>\n    <tr>\n      <th rowspan=\"2\" valign=\"top\">3</th>\n      <th>female</th>\n      <td>72</td>\n      <td>72</td>\n      <td>144</td>\n    </tr>\n    <tr>\n      <th>male</th>\n      <td>300</td>\n      <td>47</td>\n      <td>347</td>\n    </tr>\n    <tr>\n      <th>All</th>\n      <th></th>\n      <td>549</td>\n      <td>342</td>\n      <td>891</td>\n    </tr>\n  </tbody>\n</table>\n</div>"
          },
          "metadata": {}
        }
      ]
    },
    {
      "metadata": {
        "trusted": true,
        "_uuid": "54db0a5e8f6d83780f7a46dd45a9e68fa33f5995"
      },
      "cell_type": "code",
      "source": "graph = sns.FacetGrid(train_df, row = 'Pclass', col = 'Survived', size = 2.2, aspect=1.6)\ngraph.map(sns.countplot, 'Sex')",
      "execution_count": 38,
      "outputs": [
        {
          "output_type": "execute_result",
          "execution_count": 38,
          "data": {
            "text/plain": "<seaborn.axisgrid.FacetGrid at 0x7f9c30c767f0>"
          },
          "metadata": {}
        },
        {
          "output_type": "display_data",
          "data": {
            "text/plain": "<Figure size 506.88x475.2 with 6 Axes>",
            "image/png": "[encoded data removed]"
          },
          "metadata": {
            "needs_background": "light"
          }
        }
      ]
    },
    {
      "metadata": {
        "trusted": true,
        "_uuid": "f4a71a757f99360e1a909b36848979df1b12976c"
      },
      "cell_type": "code",
      "source": "g = sns.FacetGrid(train_df, row = 'Pclass', col = 'Survived', size = 2.2, aspect = 1.6)\ng.map(plt.hist, 'Age', bins = 20)\ng.add_legend()",
      "execution_count": 39,
      "outputs": [
        {
          "output_type": "execute_result",
          "execution_count": 39,
          "data": {
            "text/plain": "<seaborn.axisgrid.FacetGrid at 0x7f9c302ad668>"
          },
          "metadata": {}
        },
        {
          "output_type": "display_data",
          "data": {
            "text/plain": "<Figure size 514.88x475.2 with 6 Axes>",
            "image/png": "[encoded data removed]"
          },
          "metadata": {
            "needs_background": "light"
          }
        }
      ]
    },
    {
      "metadata": {
        "trusted": true,
        "_uuid": "aebe8cbae9113b1d9851459d8c7f7327e8f46b59"
      },
      "cell_type": "code",
      "source": "g = sns.FacetGrid(train_df, row = 'Pclass', col = 'Sex', size = 2.2, aspect = 1.6)\ng.map(plt.hist, 'Age', bins = 20)",
      "execution_count": 40,
      "outputs": [
        {
          "output_type": "execute_result",
          "execution_count": 40,
          "data": {
            "text/plain": "<seaborn.axisgrid.FacetGrid at 0x7f9c2ffa6cc0>"
          },
          "metadata": {}
        },
        {
          "output_type": "display_data",
          "data": {
            "text/plain": "<Figure size 506.88x475.2 with 6 Axes>",
            "image/png": "[encoded data removed]"
          },
          "metadata": {
            "needs_background": "light"
          }
        }
      ]
    },
    {
      "metadata": {
        "trusted": true,
        "_uuid": "806356a3a9a8181d7af4ef3fd23156363d5ddb03"
      },
      "cell_type": "code",
      "source": "train_df.head()",
      "execution_count": 41,
      "outputs": [
        {
          "output_type": "execute_result",
          "execution_count": 41,
          "data": {
            "text/plain": "   Survived  Pclass       ...        FamilySurvival        FareGroup\n0         0       3       ...                   0.5   (-0.001, 7.91]\n1         1       1       ...                   0.5  (31.0, 512.329]\n2         1       3       ...                   0.5   (7.91, 14.454]\n3         1       1       ...                   0.0  (31.0, 512.329]\n4         0       3       ...                   0.5   (7.91, 14.454]\n\n[5 rows x 9 columns]",
            "text/html": "<div>\n<style scoped>\n    .dataframe tbody tr th:only-of-type {\n        vertical-align: middle;\n    }\n\n    .dataframe tbody tr th {\n        vertical-align: top;\n    }\n\n    .dataframe thead th {\n        text-align: right;\n    }\n</style>\n<table border=\"1\" class=\"dataframe\">\n  <thead>\n    <tr style=\"text-align: right;\">\n      <th></th>\n      <th>Survived</th>\n      <th>Pclass</th>\n      <th>Name</th>\n      <th>Sex</th>\n      <th>Age</th>\n      <th>Embarked</th>\n      <th>isAlone</th>\n      <th>FamilySurvival</th>\n      <th>FareGroup</th>\n    </tr>\n  </thead>\n  <tbody>\n    <tr>\n      <th>0</th>\n      <td>0</td>\n      <td>3</td>\n      <td>Braund, Mr. Owen Harris</td>\n      <td>male</td>\n      <td>22.0</td>\n      <td>S</td>\n      <td>0</td>\n      <td>0.5</td>\n      <td>(-0.001, 7.91]</td>\n    </tr>\n    <tr>\n      <th>1</th>\n      <td>1</td>\n      <td>1</td>\n      <td>Cumings, Mrs. John Bradley (Florence Briggs Th...</td>\n      <td>female</td>\n      <td>38.0</td>\n      <td>C</td>\n      <td>0</td>\n      <td>0.5</td>\n      <td>(31.0, 512.329]</td>\n    </tr>\n    <tr>\n      <th>2</th>\n      <td>1</td>\n      <td>3</td>\n      <td>Heikkinen, Miss. Laina</td>\n      <td>female</td>\n      <td>26.0</td>\n      <td>S</td>\n      <td>1</td>\n      <td>0.5</td>\n      <td>(7.91, 14.454]</td>\n    </tr>\n    <tr>\n      <th>3</th>\n      <td>1</td>\n      <td>1</td>\n      <td>Futrelle, Mrs. Jacques Heath (Lily May Peel)</td>\n      <td>female</td>\n      <td>35.0</td>\n      <td>S</td>\n      <td>0</td>\n      <td>0.0</td>\n      <td>(31.0, 512.329]</td>\n    </tr>\n    <tr>\n      <th>4</th>\n      <td>0</td>\n      <td>3</td>\n      <td>Allen, Mr. William Henry</td>\n      <td>male</td>\n      <td>35.0</td>\n      <td>S</td>\n      <td>1</td>\n      <td>0.5</td>\n      <td>(7.91, 14.454]</td>\n    </tr>\n  </tbody>\n</table>\n</div>"
          },
          "metadata": {}
        }
      ]
    },
    {
      "metadata": {
        "trusted": true,
        "_uuid": "fee93bd7c52444b9d27c8611f7c4903d2ecf6ce1"
      },
      "cell_type": "code",
      "source": "f, ax = plt.subplots(1, 2, figsize = (18, 8))\nsns.countplot(data = train_df[train_df['Survived'] == 0], x = 'Pclass', hue = 'Sex', ax = ax[0])\nsns.countplot(data = train_df[train_df['Survived'] == 1], x = 'Pclass', hue = 'Sex', ax = ax[1])\nplt.legend()",
      "execution_count": 42,
      "outputs": [
        {
          "output_type": "execute_result",
          "execution_count": 42,
          "data": {
            "text/plain": "<matplotlib.legend.Legend at 0x7f9c2fd5d9e8>"
          },
          "metadata": {}
        },
        {
          "output_type": "display_data",
          "data": {
            "text/plain": "<Figure size 1296x576 with 2 Axes>",
            "image/png": "[encoded data removed]"
          },
          "metadata": {
            "needs_background": "light"
          }
        }
      ]
    },
    {
      "metadata": {
        "trusted": true,
        "_uuid": "3c9671205e9355de3d3e152cce5e385735dbda2e"
      },
      "cell_type": "code",
      "source": "for dataset in combine:\n    dataset['Initial'] = dataset['Name'].str.extract(' ([A-Za-z]+)\\.')",
      "execution_count": 43,
      "outputs": []
    },
    {
      "metadata": {
        "trusted": true,
        "_uuid": "833cc414e4c3895261896bde3abe4de8aeab59ca"
      },
      "cell_type": "code",
      "source": "pd.crosstab(train_df['Sex'], train_df['Initial'])",
      "execution_count": 44,
      "outputs": [
        {
          "output_type": "execute_result",
          "execution_count": 44,
          "data": {
            "text/plain": "Initial  Capt  Col  Countess  Don  Dr ...    Mr  Mrs  Ms  Rev  Sir\nSex                                   ...                         \nfemale      0    0         1    0   1 ...     0  125   1    0    0\nmale        1    2         0    1   6 ...   517    0   0    6    1\n\n[2 rows x 17 columns]",
            "text/html": "<div>\n<style scoped>\n    .dataframe tbody tr th:only-of-type {\n        vertical-align: middle;\n    }\n\n    .dataframe tbody tr th {\n        vertical-align: top;\n    }\n\n    .dataframe thead th {\n        text-align: right;\n    }\n</style>\n<table border=\"1\" class=\"dataframe\">\n  <thead>\n    <tr style=\"text-align: right;\">\n      <th>Initial</th>\n      <th>Capt</th>\n      <th>Col</th>\n      <th>Countess</th>\n      <th>Don</th>\n      <th>Dr</th>\n      <th>Jonkheer</th>\n      <th>Lady</th>\n      <th>Major</th>\n      <th>Master</th>\n      <th>Miss</th>\n      <th>Mlle</th>\n      <th>Mme</th>\n      <th>Mr</th>\n      <th>Mrs</th>\n      <th>Ms</th>\n      <th>Rev</th>\n      <th>Sir</th>\n    </tr>\n    <tr>\n      <th>Sex</th>\n      <th></th>\n      <th></th>\n      <th></th>\n      <th></th>\n      <th></th>\n      <th></th>\n      <th></th>\n      <th></th>\n      <th></th>\n      <th></th>\n      <th></th>\n      <th></th>\n      <th></th>\n      <th></th>\n      <th></th>\n      <th></th>\n      <th></th>\n    </tr>\n  </thead>\n  <tbody>\n    <tr>\n      <th>female</th>\n      <td>0</td>\n      <td>0</td>\n      <td>1</td>\n      <td>0</td>\n      <td>1</td>\n      <td>0</td>\n      <td>1</td>\n      <td>0</td>\n      <td>0</td>\n      <td>182</td>\n      <td>2</td>\n      <td>1</td>\n      <td>0</td>\n      <td>125</td>\n      <td>1</td>\n      <td>0</td>\n      <td>0</td>\n    </tr>\n    <tr>\n      <th>male</th>\n      <td>1</td>\n      <td>2</td>\n      <td>0</td>\n      <td>1</td>\n      <td>6</td>\n      <td>1</td>\n      <td>0</td>\n      <td>2</td>\n      <td>40</td>\n      <td>0</td>\n      <td>0</td>\n      <td>0</td>\n      <td>517</td>\n      <td>0</td>\n      <td>0</td>\n      <td>6</td>\n      <td>1</td>\n    </tr>\n  </tbody>\n</table>\n</div>"
          },
          "metadata": {}
        }
      ]
    },
    {
      "metadata": {
        "trusted": true,
        "_uuid": "c4ab25b92faca5ba45a8735ce0ffd4218678d3f4"
      },
      "cell_type": "code",
      "source": "for dataset in combine:\n    dataset['Initial'] = dataset['Initial'].replace(['Capt', 'Col', 'Don', 'Dr', 'Jonkheer', 'Lady', 'Major', 'Rev', 'Sir', 'Countess', 'Dona'], 'Others')\n    dataset['Initial'] = dataset['Initial'].replace(['Mlle', 'Ms'], 'Miss')\n    dataset['Initial'] = dataset['Initial'].replace(['Lady', 'Mme'], 'Mrs')",
      "execution_count": 45,
      "outputs": []
    },
    {
      "metadata": {
        "trusted": true,
        "_uuid": "d773ac7fa5f78d7a03090cf24dfeab22e3a40309"
      },
      "cell_type": "code",
      "source": "train_df['Initial'].unique()",
      "execution_count": 46,
      "outputs": [
        {
          "output_type": "execute_result",
          "execution_count": 46,
          "data": {
            "text/plain": "array(['Mr', 'Mrs', 'Miss', 'Master', 'Others'], dtype=object)"
          },
          "metadata": {}
        }
      ]
    },
    {
      "metadata": {
        "trusted": true,
        "_uuid": "a6c6236d5807cabb00400568508200edde4b3efe"
      },
      "cell_type": "code",
      "source": "train_df.head()",
      "execution_count": 47,
      "outputs": [
        {
          "output_type": "execute_result",
          "execution_count": 47,
          "data": {
            "text/plain": "   Survived  Pclass   ...          FareGroup Initial\n0         0       3   ...     (-0.001, 7.91]      Mr\n1         1       1   ...    (31.0, 512.329]     Mrs\n2         1       3   ...     (7.91, 14.454]    Miss\n3         1       1   ...    (31.0, 512.329]     Mrs\n4         0       3   ...     (7.91, 14.454]      Mr\n\n[5 rows x 10 columns]",
            "text/html": "<div>\n<style scoped>\n    .dataframe tbody tr th:only-of-type {\n        vertical-align: middle;\n    }\n\n    .dataframe tbody tr th {\n        vertical-align: top;\n    }\n\n    .dataframe thead th {\n        text-align: right;\n    }\n</style>\n<table border=\"1\" class=\"dataframe\">\n  <thead>\n    <tr style=\"text-align: right;\">\n      <th></th>\n      <th>Survived</th>\n      <th>Pclass</th>\n      <th>Name</th>\n      <th>Sex</th>\n      <th>Age</th>\n      <th>Embarked</th>\n      <th>isAlone</th>\n      <th>FamilySurvival</th>\n      <th>FareGroup</th>\n      <th>Initial</th>\n    </tr>\n  </thead>\n  <tbody>\n    <tr>\n      <th>0</th>\n      <td>0</td>\n      <td>3</td>\n      <td>Braund, Mr. Owen Harris</td>\n      <td>male</td>\n      <td>22.0</td>\n      <td>S</td>\n      <td>0</td>\n      <td>0.5</td>\n      <td>(-0.001, 7.91]</td>\n      <td>Mr</td>\n    </tr>\n    <tr>\n      <th>1</th>\n      <td>1</td>\n      <td>1</td>\n      <td>Cumings, Mrs. John Bradley (Florence Briggs Th...</td>\n      <td>female</td>\n      <td>38.0</td>\n      <td>C</td>\n      <td>0</td>\n      <td>0.5</td>\n      <td>(31.0, 512.329]</td>\n      <td>Mrs</td>\n    </tr>\n    <tr>\n      <th>2</th>\n      <td>1</td>\n      <td>3</td>\n      <td>Heikkinen, Miss. Laina</td>\n      <td>female</td>\n      <td>26.0</td>\n      <td>S</td>\n      <td>1</td>\n      <td>0.5</td>\n      <td>(7.91, 14.454]</td>\n      <td>Miss</td>\n    </tr>\n    <tr>\n      <th>3</th>\n      <td>1</td>\n      <td>1</td>\n      <td>Futrelle, Mrs. Jacques Heath (Lily May Peel)</td>\n      <td>female</td>\n      <td>35.0</td>\n      <td>S</td>\n      <td>0</td>\n      <td>0.0</td>\n      <td>(31.0, 512.329]</td>\n      <td>Mrs</td>\n    </tr>\n    <tr>\n      <th>4</th>\n      <td>0</td>\n      <td>3</td>\n      <td>Allen, Mr. William Henry</td>\n      <td>male</td>\n      <td>35.0</td>\n      <td>S</td>\n      <td>1</td>\n      <td>0.5</td>\n      <td>(7.91, 14.454]</td>\n      <td>Mr</td>\n    </tr>\n  </tbody>\n</table>\n</div>"
          },
          "metadata": {}
        }
      ]
    },
    {
      "metadata": {
        "trusted": true,
        "_uuid": "37ed69fc1fd112a933c47c14002c518a60d1d122"
      },
      "cell_type": "code",
      "source": "train_df.groupby('Initial')['Age'].mean()",
      "execution_count": 48,
      "outputs": [
        {
          "output_type": "execute_result",
          "execution_count": 48,
          "data": {
            "text/plain": "Initial\nMaster     4.574167\nMiss      21.845638\nMr        32.368090\nMrs       35.788991\nOthers    45.545455\nName: Age, dtype: float64"
          },
          "metadata": {}
        }
      ]
    },
    {
      "metadata": {
        "trusted": true,
        "_uuid": "4950287faae9eab1e92f7b5ee5d034c165110771"
      },
      "cell_type": "code",
      "source": "for dataset in combine:\n    dataset.loc[dataset['Age'].isnull() & (dataset['Initial'] == 'Master'), 'Age'] = 5\n    dataset.loc[dataset['Age'].isnull() & (dataset['Initial'] == 'Miss'), 'Age'] = 21\n    dataset.loc[dataset['Age'].isnull() & (dataset['Initial'] == 'Mr'), 'Age'] = 32\n    dataset.loc[dataset['Age'].isnull() & (dataset['Initial'] == 'Mrs'), 'Age'] = 36\n    dataset.loc[dataset['Age'].isnull() & (dataset['Initial'] == 'Others'), 'Age'] = 45",
      "execution_count": 49,
      "outputs": []
    },
    {
      "metadata": {
        "trusted": true,
        "_uuid": "694f73e04232ac275725ad861acb1187fc6dfefe"
      },
      "cell_type": "code",
      "source": "for dataset in combine:\n    print(dataset.isnull().any())",
      "execution_count": 50,
      "outputs": [
        {
          "output_type": "stream",
          "text": "Survived          False\nPclass            False\nName              False\nSex               False\nAge               False\nEmbarked          False\nisAlone           False\nFamilySurvival    False\nFareGroup         False\nInitial           False\ndtype: bool\nPclass            False\nName              False\nSex               False\nAge               False\nEmbarked          False\nisAlone           False\nFamilySurvival    False\nFareGroup         False\nInitial           False\ndtype: bool\n",
          "name": "stdout"
        }
      ]
    },
    {
      "metadata": {
        "trusted": true,
        "_uuid": "6388b1854635835cdd46add31ed7b2a56df465d0"
      },
      "cell_type": "code",
      "source": "train_df.head()",
      "execution_count": 51,
      "outputs": [
        {
          "output_type": "execute_result",
          "execution_count": 51,
          "data": {
            "text/plain": "   Survived  Pclass   ...          FareGroup Initial\n0         0       3   ...     (-0.001, 7.91]      Mr\n1         1       1   ...    (31.0, 512.329]     Mrs\n2         1       3   ...     (7.91, 14.454]    Miss\n3         1       1   ...    (31.0, 512.329]     Mrs\n4         0       3   ...     (7.91, 14.454]      Mr\n\n[5 rows x 10 columns]",
            "text/html": "<div>\n<style scoped>\n    .dataframe tbody tr th:only-of-type {\n        vertical-align: middle;\n    }\n\n    .dataframe tbody tr th {\n        vertical-align: top;\n    }\n\n    .dataframe thead th {\n        text-align: right;\n    }\n</style>\n<table border=\"1\" class=\"dataframe\">\n  <thead>\n    <tr style=\"text-align: right;\">\n      <th></th>\n      <th>Survived</th>\n      <th>Pclass</th>\n      <th>Name</th>\n      <th>Sex</th>\n      <th>Age</th>\n      <th>Embarked</th>\n      <th>isAlone</th>\n      <th>FamilySurvival</th>\n      <th>FareGroup</th>\n      <th>Initial</th>\n    </tr>\n  </thead>\n  <tbody>\n    <tr>\n      <th>0</th>\n      <td>0</td>\n      <td>3</td>\n      <td>Braund, Mr. Owen Harris</td>\n      <td>male</td>\n      <td>22.0</td>\n      <td>S</td>\n      <td>0</td>\n      <td>0.5</td>\n      <td>(-0.001, 7.91]</td>\n      <td>Mr</td>\n    </tr>\n    <tr>\n      <th>1</th>\n      <td>1</td>\n      <td>1</td>\n      <td>Cumings, Mrs. John Bradley (Florence Briggs Th...</td>\n      <td>female</td>\n      <td>38.0</td>\n      <td>C</td>\n      <td>0</td>\n      <td>0.5</td>\n      <td>(31.0, 512.329]</td>\n      <td>Mrs</td>\n    </tr>\n    <tr>\n      <th>2</th>\n      <td>1</td>\n      <td>3</td>\n      <td>Heikkinen, Miss. Laina</td>\n      <td>female</td>\n      <td>26.0</td>\n      <td>S</td>\n      <td>1</td>\n      <td>0.5</td>\n      <td>(7.91, 14.454]</td>\n      <td>Miss</td>\n    </tr>\n    <tr>\n      <th>3</th>\n      <td>1</td>\n      <td>1</td>\n      <td>Futrelle, Mrs. Jacques Heath (Lily May Peel)</td>\n      <td>female</td>\n      <td>35.0</td>\n      <td>S</td>\n      <td>0</td>\n      <td>0.0</td>\n      <td>(31.0, 512.329]</td>\n      <td>Mrs</td>\n    </tr>\n    <tr>\n      <th>4</th>\n      <td>0</td>\n      <td>3</td>\n      <td>Allen, Mr. William Henry</td>\n      <td>male</td>\n      <td>35.0</td>\n      <td>S</td>\n      <td>1</td>\n      <td>0.5</td>\n      <td>(7.91, 14.454]</td>\n      <td>Mr</td>\n    </tr>\n  </tbody>\n</table>\n</div>"
          },
          "metadata": {}
        }
      ]
    },
    {
      "metadata": {
        "trusted": true,
        "_uuid": "3c198753f0110c77ea746248be1a5184a4a80cad"
      },
      "cell_type": "code",
      "source": "train_df.hist('Age')",
      "execution_count": 52,
      "outputs": [
        {
          "output_type": "execute_result",
          "execution_count": 52,
          "data": {
            "text/plain": "array([[<matplotlib.axes._subplots.AxesSubplot object at 0x7f9c2f90f4e0>]],\n      dtype=object)"
          },
          "metadata": {}
        },
        {
          "output_type": "display_data",
          "data": {
            "text/plain": "<Figure size 432x288 with 1 Axes>",
            "image/png": "[encoded data removed]"
          },
          "metadata": {
            "needs_background": "light"
          }
        }
      ]
    },
    {
      "metadata": {
        "trusted": true,
        "_uuid": "279f8be2e4a939945d02e0eaf3b1523e380fa6b3"
      },
      "cell_type": "code",
      "source": "train_df['AgeGroup'] = pd.qcut(train_df['Age'], 4)\ntrain_df[['AgeGroup', 'Survived']].groupby('AgeGroup')['Survived'].mean()",
      "execution_count": 53,
      "outputs": [
        {
          "output_type": "execute_result",
          "execution_count": 53,
          "data": {
            "text/plain": "AgeGroup\n(0.419, 21.0]    0.454918\n(21.0, 30.0]     0.385366\n(30.0, 36.0]     0.325203\n(36.0, 80.0]     0.367347\nName: Survived, dtype: float64"
          },
          "metadata": {}
        }
      ]
    },
    {
      "metadata": {
        "trusted": true,
        "_uuid": "c26c80c4585e49c066101b432ff9657745091507"
      },
      "cell_type": "code",
      "source": "for dataset in combine:\n    dataset['Person'] = dataset['Sex']\n#     dataset.loc[dataset['Initial'] == 'Master', 'Person'] = 'Child'",
      "execution_count": 54,
      "outputs": []
    },
    {
      "metadata": {
        "trusted": true,
        "_uuid": "ab3fa87d406bfbe33eedcb2145a5c3d13fe39a81"
      },
      "cell_type": "code",
      "source": "for dataset in combine:\n    dataset['AgeGroup'] = pd.qcut(dataset['Age'], 4)\n    dataset.drop(['Age', 'Name', 'Sex'], axis = 1, inplace = True)",
      "execution_count": 55,
      "outputs": []
    },
    {
      "metadata": {
        "trusted": true,
        "_uuid": "42a897aeee31328e6a8ca64c7ee7cdf682d11337"
      },
      "cell_type": "code",
      "source": "train_df.head()",
      "execution_count": 56,
      "outputs": [
        {
          "output_type": "execute_result",
          "execution_count": 56,
          "data": {
            "text/plain": "   Survived  Pclass Embarked   ...    Initial      AgeGroup  Person\n0         0       3        S   ...         Mr  (21.0, 30.0]    male\n1         1       1        C   ...        Mrs  (36.0, 80.0]  female\n2         1       3        S   ...       Miss  (21.0, 30.0]  female\n3         1       1        S   ...        Mrs  (30.0, 36.0]  female\n4         0       3        S   ...         Mr  (30.0, 36.0]    male\n\n[5 rows x 9 columns]",
            "text/html": "<div>\n<style scoped>\n    .dataframe tbody tr th:only-of-type {\n        vertical-align: middle;\n    }\n\n    .dataframe tbody tr th {\n        vertical-align: top;\n    }\n\n    .dataframe thead th {\n        text-align: right;\n    }\n</style>\n<table border=\"1\" class=\"dataframe\">\n  <thead>\n    <tr style=\"text-align: right;\">\n      <th></th>\n      <th>Survived</th>\n      <th>Pclass</th>\n      <th>Embarked</th>\n      <th>isAlone</th>\n      <th>FamilySurvival</th>\n      <th>FareGroup</th>\n      <th>Initial</th>\n      <th>AgeGroup</th>\n      <th>Person</th>\n    </tr>\n  </thead>\n  <tbody>\n    <tr>\n      <th>0</th>\n      <td>0</td>\n      <td>3</td>\n      <td>S</td>\n      <td>0</td>\n      <td>0.5</td>\n      <td>(-0.001, 7.91]</td>\n      <td>Mr</td>\n      <td>(21.0, 30.0]</td>\n      <td>male</td>\n    </tr>\n    <tr>\n      <th>1</th>\n      <td>1</td>\n      <td>1</td>\n      <td>C</td>\n      <td>0</td>\n      <td>0.5</td>\n      <td>(31.0, 512.329]</td>\n      <td>Mrs</td>\n      <td>(36.0, 80.0]</td>\n      <td>female</td>\n    </tr>\n    <tr>\n      <th>2</th>\n      <td>1</td>\n      <td>3</td>\n      <td>S</td>\n      <td>1</td>\n      <td>0.5</td>\n      <td>(7.91, 14.454]</td>\n      <td>Miss</td>\n      <td>(21.0, 30.0]</td>\n      <td>female</td>\n    </tr>\n    <tr>\n      <th>3</th>\n      <td>1</td>\n      <td>1</td>\n      <td>S</td>\n      <td>0</td>\n      <td>0.0</td>\n      <td>(31.0, 512.329]</td>\n      <td>Mrs</td>\n      <td>(30.0, 36.0]</td>\n      <td>female</td>\n    </tr>\n    <tr>\n      <th>4</th>\n      <td>0</td>\n      <td>3</td>\n      <td>S</td>\n      <td>1</td>\n      <td>0.5</td>\n      <td>(7.91, 14.454]</td>\n      <td>Mr</td>\n      <td>(30.0, 36.0]</td>\n      <td>male</td>\n    </tr>\n  </tbody>\n</table>\n</div>"
          },
          "metadata": {}
        }
      ]
    },
    {
      "metadata": {
        "trusted": true,
        "_uuid": "0f114a3fead16b5d878f9e7ee41ba8b4b015d8e5"
      },
      "cell_type": "code",
      "source": "# Label Encoder\nfor dataset in combine:\n    encoder = LabelEncoder()\n    dataset['Embarked'] = encoder.fit_transform(dataset['Embarked'])\n    dataset['FareGroup'] = encoder.fit_transform(dataset['FareGroup'])\n    dataset['Initial'] = encoder.fit_transform(dataset['Initial'])\n    dataset['AgeGroup'] = encoder.fit_transform(dataset['AgeGroup'])\n    dataset['Person'] = encoder.fit_transform(dataset['Person'])",
      "execution_count": 57,
      "outputs": []
    },
    {
      "metadata": {
        "trusted": true,
        "_uuid": "57e2ab57488877d245b67b968bacafd0ade4a776"
      },
      "cell_type": "code",
      "source": "train_df.head()",
      "execution_count": 58,
      "outputs": [
        {
          "output_type": "execute_result",
          "execution_count": 58,
          "data": {
            "text/plain": "   Survived  Pclass  Embarked   ...    Initial  AgeGroup  Person\n0         0       3         2   ...          2         1       1\n1         1       1         0   ...          3         3       0\n2         1       3         2   ...          1         1       0\n3         1       1         2   ...          3         2       0\n4         0       3         2   ...          2         2       1\n\n[5 rows x 9 columns]",
            "text/html": "<div>\n<style scoped>\n    .dataframe tbody tr th:only-of-type {\n        vertical-align: middle;\n    }\n\n    .dataframe tbody tr th {\n        vertical-align: top;\n    }\n\n    .dataframe thead th {\n        text-align: right;\n    }\n</style>\n<table border=\"1\" class=\"dataframe\">\n  <thead>\n    <tr style=\"text-align: right;\">\n      <th></th>\n      <th>Survived</th>\n      <th>Pclass</th>\n      <th>Embarked</th>\n      <th>isAlone</th>\n      <th>FamilySurvival</th>\n      <th>FareGroup</th>\n      <th>Initial</th>\n      <th>AgeGroup</th>\n      <th>Person</th>\n    </tr>\n  </thead>\n  <tbody>\n    <tr>\n      <th>0</th>\n      <td>0</td>\n      <td>3</td>\n      <td>2</td>\n      <td>0</td>\n      <td>0.5</td>\n      <td>0</td>\n      <td>2</td>\n      <td>1</td>\n      <td>1</td>\n    </tr>\n    <tr>\n      <th>1</th>\n      <td>1</td>\n      <td>1</td>\n      <td>0</td>\n      <td>0</td>\n      <td>0.5</td>\n      <td>3</td>\n      <td>3</td>\n      <td>3</td>\n      <td>0</td>\n    </tr>\n    <tr>\n      <th>2</th>\n      <td>1</td>\n      <td>3</td>\n      <td>2</td>\n      <td>1</td>\n      <td>0.5</td>\n      <td>1</td>\n      <td>1</td>\n      <td>1</td>\n      <td>0</td>\n    </tr>\n    <tr>\n      <th>3</th>\n      <td>1</td>\n      <td>1</td>\n      <td>2</td>\n      <td>0</td>\n      <td>0.0</td>\n      <td>3</td>\n      <td>3</td>\n      <td>2</td>\n      <td>0</td>\n    </tr>\n    <tr>\n      <th>4</th>\n      <td>0</td>\n      <td>3</td>\n      <td>2</td>\n      <td>1</td>\n      <td>0.5</td>\n      <td>1</td>\n      <td>2</td>\n      <td>2</td>\n      <td>1</td>\n    </tr>\n  </tbody>\n</table>\n</div>"
          },
          "metadata": {}
        }
      ]
    },
    {
      "metadata": {
        "trusted": true,
        "_uuid": "9bb62f103c153468f390903a619f73a4ca215d83"
      },
      "cell_type": "code",
      "source": "sns.heatmap(train_df.corr(), annot=True)\nfig=plt.gcf()\nfig.set_size_inches(10,8)",
      "execution_count": 59,
      "outputs": [
        {
          "output_type": "display_data",
          "data": {
            "text/plain": "<Figure size 720x576 with 2 Axes>",
            "image/png": "[encoded data removed]"
          },
          "metadata": {
            "needs_background": "light"
          }
        }
      ]
    },
    {
      "metadata": {
        "trusted": true,
        "_uuid": "d2ce0130c4936a0053469a0482af05542e61d7ae"
      },
      "cell_type": "code",
      "source": "test_df.head()",
      "execution_count": 60,
      "outputs": [
        {
          "output_type": "execute_result",
          "execution_count": 60,
          "data": {
            "text/plain": "   Pclass  Embarked  isAlone    ...     Initial  Person  AgeGroup\n0       3         1        0    ...           2       1         2\n1       3         2        0    ...           3       0         3\n2       2         1        1    ...           2       1         3\n3       3         2        0    ...           2       1         1\n4       3         2        1    ...           3       0         1\n\n[5 rows x 8 columns]",
            "text/html": "<div>\n<style scoped>\n    .dataframe tbody tr th:only-of-type {\n        vertical-align: middle;\n    }\n\n    .dataframe tbody tr th {\n        vertical-align: top;\n    }\n\n    .dataframe thead th {\n        text-align: right;\n    }\n</style>\n<table border=\"1\" class=\"dataframe\">\n  <thead>\n    <tr style=\"text-align: right;\">\n      <th></th>\n      <th>Pclass</th>\n      <th>Embarked</th>\n      <th>isAlone</th>\n      <th>FamilySurvival</th>\n      <th>FareGroup</th>\n      <th>Initial</th>\n      <th>Person</th>\n      <th>AgeGroup</th>\n    </tr>\n  </thead>\n  <tbody>\n    <tr>\n      <th>0</th>\n      <td>3</td>\n      <td>1</td>\n      <td>0</td>\n      <td>0.5</td>\n      <td>0</td>\n      <td>2</td>\n      <td>1</td>\n      <td>2</td>\n    </tr>\n    <tr>\n      <th>1</th>\n      <td>3</td>\n      <td>2</td>\n      <td>0</td>\n      <td>0.5</td>\n      <td>0</td>\n      <td>3</td>\n      <td>0</td>\n      <td>3</td>\n    </tr>\n    <tr>\n      <th>2</th>\n      <td>2</td>\n      <td>1</td>\n      <td>1</td>\n      <td>0.5</td>\n      <td>1</td>\n      <td>2</td>\n      <td>1</td>\n      <td>3</td>\n    </tr>\n    <tr>\n      <th>3</th>\n      <td>3</td>\n      <td>2</td>\n      <td>0</td>\n      <td>0.5</td>\n      <td>1</td>\n      <td>2</td>\n      <td>1</td>\n      <td>1</td>\n    </tr>\n    <tr>\n      <th>4</th>\n      <td>3</td>\n      <td>2</td>\n      <td>1</td>\n      <td>1.0</td>\n      <td>1</td>\n      <td>3</td>\n      <td>0</td>\n      <td>1</td>\n    </tr>\n  </tbody>\n</table>\n</div>"
          },
          "metadata": {}
        }
      ]
    },
    {
      "metadata": {
        "_uuid": "ff72133f26885eb36b50ac8c5ce3480708a24d30"
      },
      "cell_type": "markdown",
      "source": "# Training"
    },
    {
      "metadata": {
        "trusted": true,
        "_uuid": "36b6a7b9b762d706884d07cbf0008bf8896f1ef3"
      },
      "cell_type": "code",
      "source": "X = train_df.drop('Survived', axis = 1)\ny = train_df['Survived']\nX_res = test_df\nX_res.head()",
      "execution_count": 61,
      "outputs": [
        {
          "output_type": "execute_result",
          "execution_count": 61,
          "data": {
            "text/plain": "   Pclass  Embarked  isAlone    ...     Initial  Person  AgeGroup\n0       3         1        0    ...           2       1         2\n1       3         2        0    ...           3       0         3\n2       2         1        1    ...           2       1         3\n3       3         2        0    ...           2       1         1\n4       3         2        1    ...           3       0         1\n\n[5 rows x 8 columns]",
            "text/html": "<div>\n<style scoped>\n    .dataframe tbody tr th:only-of-type {\n        vertical-align: middle;\n    }\n\n    .dataframe tbody tr th {\n        vertical-align: top;\n    }\n\n    .dataframe thead th {\n        text-align: right;\n    }\n</style>\n<table border=\"1\" class=\"dataframe\">\n  <thead>\n    <tr style=\"text-align: right;\">\n      <th></th>\n      <th>Pclass</th>\n      <th>Embarked</th>\n      <th>isAlone</th>\n      <th>FamilySurvival</th>\n      <th>FareGroup</th>\n      <th>Initial</th>\n      <th>Person</th>\n      <th>AgeGroup</th>\n    </tr>\n  </thead>\n  <tbody>\n    <tr>\n      <th>0</th>\n      <td>3</td>\n      <td>1</td>\n      <td>0</td>\n      <td>0.5</td>\n      <td>0</td>\n      <td>2</td>\n      <td>1</td>\n      <td>2</td>\n    </tr>\n    <tr>\n      <th>1</th>\n      <td>3</td>\n      <td>2</td>\n      <td>0</td>\n      <td>0.5</td>\n      <td>0</td>\n      <td>3</td>\n      <td>0</td>\n      <td>3</td>\n    </tr>\n    <tr>\n      <th>2</th>\n      <td>2</td>\n      <td>1</td>\n      <td>1</td>\n      <td>0.5</td>\n      <td>1</td>\n      <td>2</td>\n      <td>1</td>\n      <td>3</td>\n    </tr>\n    <tr>\n      <th>3</th>\n      <td>3</td>\n      <td>2</td>\n      <td>0</td>\n      <td>0.5</td>\n      <td>1</td>\n      <td>2</td>\n      <td>1</td>\n      <td>1</td>\n    </tr>\n    <tr>\n      <th>4</th>\n      <td>3</td>\n      <td>2</td>\n      <td>1</td>\n      <td>1.0</td>\n      <td>1</td>\n      <td>3</td>\n      <td>0</td>\n      <td>1</td>\n    </tr>\n  </tbody>\n</table>\n</div>"
          },
          "metadata": {}
        }
      ]
    },
    {
      "metadata": {
        "trusted": true,
        "_uuid": "ff47a79851d03275f6926e075e95ab6efc34e555"
      },
      "cell_type": "code",
      "source": "X.head()",
      "execution_count": 62,
      "outputs": [
        {
          "output_type": "execute_result",
          "execution_count": 62,
          "data": {
            "text/plain": "   Pclass  Embarked  isAlone   ...    Initial  AgeGroup  Person\n0       3         2        0   ...          2         1       1\n1       1         0        0   ...          3         3       0\n2       3         2        1   ...          1         1       0\n3       1         2        0   ...          3         2       0\n4       3         2        1   ...          2         2       1\n\n[5 rows x 8 columns]",
            "text/html": "<div>\n<style scoped>\n    .dataframe tbody tr th:only-of-type {\n        vertical-align: middle;\n    }\n\n    .dataframe tbody tr th {\n        vertical-align: top;\n    }\n\n    .dataframe thead th {\n        text-align: right;\n    }\n</style>\n<table border=\"1\" class=\"dataframe\">\n  <thead>\n    <tr style=\"text-align: right;\">\n      <th></th>\n      <th>Pclass</th>\n      <th>Embarked</th>\n      <th>isAlone</th>\n      <th>FamilySurvival</th>\n      <th>FareGroup</th>\n      <th>Initial</th>\n      <th>AgeGroup</th>\n      <th>Person</th>\n    </tr>\n  </thead>\n  <tbody>\n    <tr>\n      <th>0</th>\n      <td>3</td>\n      <td>2</td>\n      <td>0</td>\n      <td>0.5</td>\n      <td>0</td>\n      <td>2</td>\n      <td>1</td>\n      <td>1</td>\n    </tr>\n    <tr>\n      <th>1</th>\n      <td>1</td>\n      <td>0</td>\n      <td>0</td>\n      <td>0.5</td>\n      <td>3</td>\n      <td>3</td>\n      <td>3</td>\n      <td>0</td>\n    </tr>\n    <tr>\n      <th>2</th>\n      <td>3</td>\n      <td>2</td>\n      <td>1</td>\n      <td>0.5</td>\n      <td>1</td>\n      <td>1</td>\n      <td>1</td>\n      <td>0</td>\n    </tr>\n    <tr>\n      <th>3</th>\n      <td>1</td>\n      <td>2</td>\n      <td>0</td>\n      <td>0.0</td>\n      <td>3</td>\n      <td>3</td>\n      <td>2</td>\n      <td>0</td>\n    </tr>\n    <tr>\n      <th>4</th>\n      <td>3</td>\n      <td>2</td>\n      <td>1</td>\n      <td>0.5</td>\n      <td>1</td>\n      <td>2</td>\n      <td>2</td>\n      <td>1</td>\n    </tr>\n  </tbody>\n</table>\n</div>"
          },
          "metadata": {}
        }
      ]
    },
    {
      "metadata": {
        "trusted": true,
        "_uuid": "138ce05169c90a8af80ed4608cb21ee550dc02d6"
      },
      "cell_type": "code",
      "source": "X_Pclass = pd.get_dummies(X['Pclass'], drop_first = True, prefix='Pclass')\nX_Embarked = pd.get_dummies(X['Embarked'], drop_first = True, prefix = 'Embarked')\nX_FareGroup = pd.get_dummies(X['FareGroup'], drop_first = True, prefix='FareGroup')\nX_Initial = pd.get_dummies(X['Initial'], drop_first = True, prefix='Initial')\nX_AgeGroup = pd.get_dummies(X['AgeGroup'], drop_first = True, prefix='AgeGroup')\nX_Person = pd.get_dummies(X['Person'], drop_first = True, prefix='Person')\nX.drop(['Pclass', 'Embarked', 'FareGroup', 'Initial', 'AgeGroup', 'Person'], axis = 1, inplace = True)\nX = X.join([X_Pclass, X_Embarked, X_FareGroup, X_Initial, X_AgeGroup, X_Person])\nX.head()",
      "execution_count": 63,
      "outputs": [
        {
          "output_type": "execute_result",
          "execution_count": 63,
          "data": {
            "text/plain": "   isAlone  FamilySurvival  Pclass_2    ...     AgeGroup_2  AgeGroup_3  Person_1\n0        0             0.5         0    ...              0           0         1\n1        0             0.5         0    ...              0           1         0\n2        1             0.5         0    ...              0           0         0\n3        0             0.0         0    ...              1           0         0\n4        1             0.5         0    ...              1           0         1\n\n[5 rows x 17 columns]",
            "text/html": "<div>\n<style scoped>\n    .dataframe tbody tr th:only-of-type {\n        vertical-align: middle;\n    }\n\n    .dataframe tbody tr th {\n        vertical-align: top;\n    }\n\n    .dataframe thead th {\n        text-align: right;\n    }\n</style>\n<table border=\"1\" class=\"dataframe\">\n  <thead>\n    <tr style=\"text-align: right;\">\n      <th></th>\n      <th>isAlone</th>\n      <th>FamilySurvival</th>\n      <th>Pclass_2</th>\n      <th>Pclass_3</th>\n      <th>Embarked_1</th>\n      <th>Embarked_2</th>\n      <th>FareGroup_1</th>\n      <th>FareGroup_2</th>\n      <th>FareGroup_3</th>\n      <th>Initial_1</th>\n      <th>Initial_2</th>\n      <th>Initial_3</th>\n      <th>Initial_4</th>\n      <th>AgeGroup_1</th>\n      <th>AgeGroup_2</th>\n      <th>AgeGroup_3</th>\n      <th>Person_1</th>\n    </tr>\n  </thead>\n  <tbody>\n    <tr>\n      <th>0</th>\n      <td>0</td>\n      <td>0.5</td>\n      <td>0</td>\n      <td>1</td>\n      <td>0</td>\n      <td>1</td>\n      <td>0</td>\n      <td>0</td>\n      <td>0</td>\n      <td>0</td>\n      <td>1</td>\n      <td>0</td>\n      <td>0</td>\n      <td>1</td>\n      <td>0</td>\n      <td>0</td>\n      <td>1</td>\n    </tr>\n    <tr>\n      <th>1</th>\n      <td>0</td>\n      <td>0.5</td>\n      <td>0</td>\n      <td>0</td>\n      <td>0</td>\n      <td>0</td>\n      <td>0</td>\n      <td>0</td>\n      <td>1</td>\n      <td>0</td>\n      <td>0</td>\n      <td>1</td>\n      <td>0</td>\n      <td>0</td>\n      <td>0</td>\n      <td>1</td>\n      <td>0</td>\n    </tr>\n    <tr>\n      <th>2</th>\n      <td>1</td>\n      <td>0.5</td>\n      <td>0</td>\n      <td>1</td>\n      <td>0</td>\n      <td>1</td>\n      <td>1</td>\n      <td>0</td>\n      <td>0</td>\n      <td>1</td>\n      <td>0</td>\n      <td>0</td>\n      <td>0</td>\n      <td>1</td>\n      <td>0</td>\n      <td>0</td>\n      <td>0</td>\n    </tr>\n    <tr>\n      <th>3</th>\n      <td>0</td>\n      <td>0.0</td>\n      <td>0</td>\n      <td>0</td>\n      <td>0</td>\n      <td>1</td>\n      <td>0</td>\n      <td>0</td>\n      <td>1</td>\n      <td>0</td>\n      <td>0</td>\n      <td>1</td>\n      <td>0</td>\n      <td>0</td>\n      <td>1</td>\n      <td>0</td>\n      <td>0</td>\n    </tr>\n    <tr>\n      <th>4</th>\n      <td>1</td>\n      <td>0.5</td>\n      <td>0</td>\n      <td>1</td>\n      <td>0</td>\n      <td>1</td>\n      <td>1</td>\n      <td>0</td>\n      <td>0</td>\n      <td>0</td>\n      <td>1</td>\n      <td>0</td>\n      <td>0</td>\n      <td>0</td>\n      <td>1</td>\n      <td>0</td>\n      <td>1</td>\n    </tr>\n  </tbody>\n</table>\n</div>"
          },
          "metadata": {}
        }
      ]
    },
    {
      "metadata": {
        "trusted": true,
        "_uuid": "14f7ca0fc496817faf718ada180533e8749fbae1"
      },
      "cell_type": "code",
      "source": "X_res_Pclass = pd.get_dummies(X_res['Pclass'], drop_first = True, prefix='Pclass')\nX_res_Embarked = pd.get_dummies(X_res['Embarked'], drop_first = True, prefix = 'Embarked')\nX_res_FareGroup = pd.get_dummies(X_res['FareGroup'], drop_first = True, prefix='FareGroup')\nX_res_Initial = pd.get_dummies(X_res['Initial'], drop_first = True, prefix='Initial')\nX_res_AgeGroup = pd.get_dummies(X_res['AgeGroup'], drop_first = True, prefix='AgeGroup')\nX_res_Person = pd.get_dummies(X_res['Person'], drop_first = True, prefix='Person')\nX_res.drop(['Pclass', 'Embarked', 'FareGroup', 'Initial', 'AgeGroup', 'Person'], axis = 1, inplace = True)\nX_res = X_res.join([X_res_Pclass, X_res_Embarked, X_res_FareGroup, X_res_Initial, X_res_AgeGroup, X_res_Person])\nX_res.head()",
      "execution_count": 64,
      "outputs": [
        {
          "output_type": "execute_result",
          "execution_count": 64,
          "data": {
            "text/plain": "   isAlone  FamilySurvival  Pclass_2    ...     AgeGroup_2  AgeGroup_3  Person_1\n0        0             0.5         0    ...              1           0         1\n1        0             0.5         0    ...              0           1         0\n2        1             0.5         1    ...              0           1         1\n3        0             0.5         0    ...              0           0         1\n4        1             1.0         0    ...              0           0         0\n\n[5 rows x 17 columns]",
            "text/html": "<div>\n<style scoped>\n    .dataframe tbody tr th:only-of-type {\n        vertical-align: middle;\n    }\n\n    .dataframe tbody tr th {\n        vertical-align: top;\n    }\n\n    .dataframe thead th {\n        text-align: right;\n    }\n</style>\n<table border=\"1\" class=\"dataframe\">\n  <thead>\n    <tr style=\"text-align: right;\">\n      <th></th>\n      <th>isAlone</th>\n      <th>FamilySurvival</th>\n      <th>Pclass_2</th>\n      <th>Pclass_3</th>\n      <th>Embarked_1</th>\n      <th>Embarked_2</th>\n      <th>FareGroup_1</th>\n      <th>FareGroup_2</th>\n      <th>FareGroup_3</th>\n      <th>Initial_1</th>\n      <th>Initial_2</th>\n      <th>Initial_3</th>\n      <th>Initial_4</th>\n      <th>AgeGroup_1</th>\n      <th>AgeGroup_2</th>\n      <th>AgeGroup_3</th>\n      <th>Person_1</th>\n    </tr>\n  </thead>\n  <tbody>\n    <tr>\n      <th>0</th>\n      <td>0</td>\n      <td>0.5</td>\n      <td>0</td>\n      <td>1</td>\n      <td>1</td>\n      <td>0</td>\n      <td>0</td>\n      <td>0</td>\n      <td>0</td>\n      <td>0</td>\n      <td>1</td>\n      <td>0</td>\n      <td>0</td>\n      <td>0</td>\n      <td>1</td>\n      <td>0</td>\n      <td>1</td>\n    </tr>\n    <tr>\n      <th>1</th>\n      <td>0</td>\n      <td>0.5</td>\n      <td>0</td>\n      <td>1</td>\n      <td>0</td>\n      <td>1</td>\n      <td>0</td>\n      <td>0</td>\n      <td>0</td>\n      <td>0</td>\n      <td>0</td>\n      <td>1</td>\n      <td>0</td>\n      <td>0</td>\n      <td>0</td>\n      <td>1</td>\n      <td>0</td>\n    </tr>\n    <tr>\n      <th>2</th>\n      <td>1</td>\n      <td>0.5</td>\n      <td>1</td>\n      <td>0</td>\n      <td>1</td>\n      <td>0</td>\n      <td>1</td>\n      <td>0</td>\n      <td>0</td>\n      <td>0</td>\n      <td>1</td>\n      <td>0</td>\n      <td>0</td>\n      <td>0</td>\n      <td>0</td>\n      <td>1</td>\n      <td>1</td>\n    </tr>\n    <tr>\n      <th>3</th>\n      <td>0</td>\n      <td>0.5</td>\n      <td>0</td>\n      <td>1</td>\n      <td>0</td>\n      <td>1</td>\n      <td>1</td>\n      <td>0</td>\n      <td>0</td>\n      <td>0</td>\n      <td>1</td>\n      <td>0</td>\n      <td>0</td>\n      <td>1</td>\n      <td>0</td>\n      <td>0</td>\n      <td>1</td>\n    </tr>\n    <tr>\n      <th>4</th>\n      <td>1</td>\n      <td>1.0</td>\n      <td>0</td>\n      <td>1</td>\n      <td>0</td>\n      <td>1</td>\n      <td>1</td>\n      <td>0</td>\n      <td>0</td>\n      <td>0</td>\n      <td>0</td>\n      <td>1</td>\n      <td>0</td>\n      <td>1</td>\n      <td>0</td>\n      <td>0</td>\n      <td>0</td>\n    </tr>\n  </tbody>\n</table>\n</div>"
          },
          "metadata": {}
        }
      ]
    },
    {
      "metadata": {
        "trusted": true,
        "_uuid": "b489837966ce8afed730f41005f760ffc5117646"
      },
      "cell_type": "code",
      "source": "from sklearn.model_selection import train_test_split\n_, X_test, _, y_test = train_test_split(X, y, random_state = 101, test_size = 0.3)",
      "execution_count": 65,
      "outputs": []
    },
    {
      "metadata": {
        "trusted": true,
        "_uuid": "c6190224a55597feb56fd3b362d31f48acc7cf75"
      },
      "cell_type": "code",
      "source": "print(X_res.shape)",
      "execution_count": 66,
      "outputs": [
        {
          "output_type": "stream",
          "text": "(418, 17)\n",
          "name": "stdout"
        }
      ]
    },
    {
      "metadata": {
        "trusted": true,
        "_uuid": "cd0ac25b5144bdfe72fd374f9a3fce560397cffb"
      },
      "cell_type": "code",
      "source": "# MODELS\nfrom sklearn.linear_model import LogisticRegression\nfrom sklearn.svm import SVC, LinearSVC\nfrom sklearn.neighbors import KNeighborsClassifier\nfrom sklearn.tree import DecisionTreeClassifier\nfrom sklearn.ensemble import RandomForestClassifier\nfrom sklearn.naive_bayes import GaussianNB\nimport xgboost as xgb\n\nfrom sklearn.metrics import classification_report, confusion_matrix, accuracy_score\nfrom sklearn.model_selection import GridSearchCV",
      "execution_count": 67,
      "outputs": []
    },
    {
      "metadata": {
        "trusted": true,
        "_uuid": "73e7abd14f10c3fc9461ef70cab620052596dea0"
      },
      "cell_type": "code",
      "source": "model = LogisticRegression()\nmodel.fit(X, y)\npredictions = model.predict(X_test)\nprint(accuracy_score(y_test, predictions))",
      "execution_count": 68,
      "outputs": [
        {
          "output_type": "stream",
          "text": "0.832089552238806\n",
          "name": "stdout"
        }
      ]
    },
    {
      "metadata": {
        "trusted": true,
        "_uuid": "8d4cfd3ab13bcc93cb1ce119f36a077f16846a52"
      },
      "cell_type": "code",
      "source": "model = SVC()\nmodel.fit(X, y)\npredictions = model.predict(X_test)\nprint(accuracy_score(y_test, predictions))",
      "execution_count": 69,
      "outputs": [
        {
          "output_type": "stream",
          "text": "0.832089552238806\n",
          "name": "stdout"
        }
      ]
    },
    {
      "metadata": {
        "trusted": true,
        "_uuid": "c197e5b94b1d70f2949ce8c3c91e14e5916541b8"
      },
      "cell_type": "code",
      "source": "model = LinearSVC()\nmodel.fit(X, y)\npredictions = model.predict(X_test)\nprint(accuracy_score(y_test, predictions))",
      "execution_count": 70,
      "outputs": [
        {
          "output_type": "stream",
          "text": "0.8283582089552238\n",
          "name": "stdout"
        }
      ]
    },
    {
      "metadata": {
        "trusted": true,
        "_uuid": "1845b60a3edaccbda7cf1b0e75543a95ecdaecee"
      },
      "cell_type": "code",
      "source": "model = DecisionTreeClassifier()\nmodel.fit(X, y)\npredictions = model.predict(X_test)\nprint(accuracy_score(y_test, predictions))",
      "execution_count": 71,
      "outputs": [
        {
          "output_type": "stream",
          "text": "0.8656716417910447\n",
          "name": "stdout"
        }
      ]
    },
    {
      "metadata": {
        "trusted": true,
        "_uuid": "41fe93f4a4e86a951dc343416566373c7a957aa2"
      },
      "cell_type": "code",
      "source": "model = RandomForestClassifier()\nmodel.fit(X, y)\npredictions = model.predict(X_test)\nprint(accuracy_score(y_test, predictions))",
      "execution_count": 72,
      "outputs": [
        {
          "output_type": "stream",
          "text": "0.8805970149253731\n",
          "name": "stdout"
        }
      ]
    },
    {
      "metadata": {
        "trusted": true,
        "_uuid": "d7ba468dc8938837943e4c317129e7e0792653a6"
      },
      "cell_type": "code",
      "source": "model = GaussianNB()\nmodel.fit(X, y)\npredictions = model.predict(X_test)\nprint(accuracy_score(y_test, predictions))",
      "execution_count": 73,
      "outputs": [
        {
          "output_type": "stream",
          "text": "0.7723880597014925\n",
          "name": "stdout"
        }
      ]
    },
    {
      "metadata": {
        "trusted": true,
        "_uuid": "4e63d589a412a80cdad538247b166a2862a26d68"
      },
      "cell_type": "code",
      "source": "model = xgb.XGBClassifier()\nmodel.fit(X, y)\npredictions = model.predict(X_test)\nprint(accuracy_score(y_test, predictions))",
      "execution_count": 74,
      "outputs": [
        {
          "output_type": "stream",
          "text": "0.835820895522388\n",
          "name": "stdout"
        }
      ]
    },
    {
      "metadata": {
        "trusted": true,
        "_uuid": "ae7ef047538d9cbdf7a5f85377845ae6be8a51cc"
      },
      "cell_type": "code",
      "source": "k_index = list(range(1, 11, 1))\nk_error = []\nfor i in range(1, 11, 1):\n    model = KNeighborsClassifier(n_neighbors = i)\n    model.fit(X, y)\n    predictions = model.predict(X_test)\n    k_error.append(1 - accuracy_score(y_test, predictions))\n\nplt.plot(k_index, k_error)",
      "execution_count": 75,
      "outputs": [
        {
          "output_type": "execute_result",
          "execution_count": 75,
          "data": {
            "text/plain": "[<matplotlib.lines.Line2D at 0x7f9c1e25c1d0>]"
          },
          "metadata": {}
        },
        {
          "output_type": "display_data",
          "data": {
            "text/plain": "<Figure size 432x288 with 1 Axes>",
            "image/png": "[encoded data removed]"
          },
          "metadata": {
            "needs_background": "light"
          }
        }
      ]
    },
    {
      "metadata": {
        "trusted": true,
        "_uuid": "0d409907dff83f7959334a6d44f9f468daa63fac"
      },
      "cell_type": "code",
      "source": "model = KNeighborsClassifier(n_neighbors = 6)\nmodel.fit(X, y)\npredictions = model.predict(X_test)\nprint(accuracy_score(y_test, predictions))",
      "execution_count": 76,
      "outputs": [
        {
          "output_type": "stream",
          "text": "0.835820895522388\n",
          "name": "stdout"
        }
      ]
    },
    {
      "metadata": {
        "trusted": true,
        "_uuid": "d6dc06347c49c14ede7900ba5bbb24c626fb898f"
      },
      "cell_type": "code",
      "source": "# cross-valfrom sklearn.linear_model import LogisticRegression\nfrom sklearn.model_selection import cross_val_score\n\nclassifiers = ['Logistic Regression', 'SVC', 'LinearSVC', 'KNeighborsClassifier', 'DecisionTree', 'RandomForest', 'GaussianNB', 'XGBoost']\nmodels = [LogisticRegression(), SVC(), LinearSVC(), KNeighborsClassifier(n_neighbors = 7), DecisionTreeClassifier(), RandomForestClassifier(n_estimators = 100), GaussianNB(), xgb.XGBClassifier()]\nmean_score = []\n\nfor i in range(len(classifiers)):\n    model = models[i]\n    cv_results = cross_val_score(model, X, y, cv = 10, scoring = 'accuracy')\n    cv_results = cv_results.mean()\n    mean_score.append(cv_results)\n\ncv_df = pd.DataFrame({'Classifiers': classifiers, 'CV Score': mean_score})\ncv_df",
      "execution_count": 77,
      "outputs": [
        {
          "output_type": "execute_result",
          "execution_count": 77,
          "data": {
            "text/plain": "            Classifiers  CV Score\n0   Logistic Regression  0.839547\n1                   SVC  0.846188\n2             LinearSVC  0.837325\n3  KNeighborsClassifier  0.827187\n4          DecisionTree  0.839523\n5          RandomForest  0.840646\n6            GaussianNB  0.790069\n7               XGBoost  0.836138",
            "text/html": "<div>\n<style scoped>\n    .dataframe tbody tr th:only-of-type {\n        vertical-align: middle;\n    }\n\n    .dataframe tbody tr th {\n        vertical-align: top;\n    }\n\n    .dataframe thead th {\n        text-align: right;\n    }\n</style>\n<table border=\"1\" class=\"dataframe\">\n  <thead>\n    <tr style=\"text-align: right;\">\n      <th></th>\n      <th>Classifiers</th>\n      <th>CV Score</th>\n    </tr>\n  </thead>\n  <tbody>\n    <tr>\n      <th>0</th>\n      <td>Logistic Regression</td>\n      <td>0.839547</td>\n    </tr>\n    <tr>\n      <th>1</th>\n      <td>SVC</td>\n      <td>0.846188</td>\n    </tr>\n    <tr>\n      <th>2</th>\n      <td>LinearSVC</td>\n      <td>0.837325</td>\n    </tr>\n    <tr>\n      <th>3</th>\n      <td>KNeighborsClassifier</td>\n      <td>0.827187</td>\n    </tr>\n    <tr>\n      <th>4</th>\n      <td>DecisionTree</td>\n      <td>0.839523</td>\n    </tr>\n    <tr>\n      <th>5</th>\n      <td>RandomForest</td>\n      <td>0.840646</td>\n    </tr>\n    <tr>\n      <th>6</th>\n      <td>GaussianNB</td>\n      <td>0.790069</td>\n    </tr>\n    <tr>\n      <th>7</th>\n      <td>XGBoost</td>\n      <td>0.836138</td>\n    </tr>\n  </tbody>\n</table>\n</div>"
          },
          "metadata": {}
        }
      ]
    },
    {
      "metadata": {
        "trusted": true,
        "_uuid": "80ccd5018b17eeb09ff69052eeda982bd0a750a6"
      },
      "cell_type": "code",
      "source": "# Grid Search on Linear SVC\nmodel = LinearSVC()\nC = [0.05, 0.1, 0.2, 0.3, 0.4, 0.5, 0.6, 0.7, 0.8, 0.9, 1.0]\ngrid_parameters = {'C': C}\ngm = GridSearchCV(model, grid_parameters)\ngm.fit(X, y)\nprint(gm.best_score_)\nprint(gm.best_params_)",
      "execution_count": 78,
      "outputs": [
        {
          "output_type": "stream",
          "text": "0.8417508417508418\n{'C': 0.05}\n",
          "name": "stdout"
        }
      ]
    },
    {
      "metadata": {
        "trusted": true,
        "_uuid": "76de596d93a73dcd787b9bcf17c2d2d302abcace"
      },
      "cell_type": "code",
      "source": "# Grid Search on Kernel SVC\nmodel = SVC()\nC = [0.05, 0.1, 0.2, 0.3, 0.4, 0.5, 0.6, 0.7, 0.8, 0.9, 1.0]\ngamma = [0.1, 0.2, 0.3, 0.4, 0.5, 0.6, 0.7, 0.8, 0.9, 1.0]\ngrid_parameters = {'C': C, 'gamma': gamma}\ngm = GridSearchCV(model, grid_parameters)\ngm.fit(X, y)\nprint(gm.best_score_)\nprint(gm.best_params_)",
      "execution_count": 79,
      "outputs": [
        {
          "output_type": "stream",
          "text": "0.8496071829405163\n{'C': 0.9, 'gamma': 0.2}\n",
          "name": "stdout"
        }
      ]
    },
    {
      "metadata": {
        "trusted": true,
        "_uuid": "434b78ffd01936476ed93671c07254be8fce1a4f"
      },
      "cell_type": "code",
      "source": "# Grid Search on RandomForest\nmodel = RandomForestClassifier()\nn_estimators = list(range(100, 1000, 100))\ngrid_parameters = {'n_estimators': n_estimators}\ngm = GridSearchCV(model, grid_parameters)\ngm.fit(X, y)\nprint(gm.best_score_)\nprint(gm.best_params_)",
      "execution_count": 80,
      "outputs": [
        {
          "output_type": "stream",
          "text": "0.8417508417508418\n{'n_estimators': 200}\n",
          "name": "stdout"
        }
      ]
    },
    {
      "metadata": {
        "trusted": true,
        "_uuid": "7495de8f726a40e49fd808690f00893554514282"
      },
      "cell_type": "code",
      "source": "# Grid Search on XGBoost\nmodel = xgb.XGBClassifier()\nlearning_rate = [0.01, 0.05, 0.1, 0.2, 0.3, 0.4, 0.5, 0.6, 0.7, 0.8, 0.9, 1.0]\nn_estimators = list(range(100, 1000, 100))\ngrid_parameters = {'learning_rate': learning_rate, 'n_estimators': n_estimators}\ngm = GridSearchCV(model, grid_parameters)\ngm.fit(X, y)\nprint(gm.best_score_)\nprint(gm.best_params_)",
      "execution_count": 81,
      "outputs": [
        {
          "output_type": "stream",
          "text": "0.8484848484848485\n{'learning_rate': 0.01, 'n_estimators': 200}\n",
          "name": "stdout"
        }
      ]
    },
    {
      "metadata": {
        "trusted": true,
        "_uuid": "5a4b960c2a755c729bc9899d584c8b8b0beeff19"
      },
      "cell_type": "code",
      "source": "from sklearn.ensemble import VotingClassifier\nensemble_lin_rbf=VotingClassifier(estimators=[('KNN',KNeighborsClassifier(n_neighbors=10)),\n                                              ('RBF',SVC(probability=True,kernel='rbf',C=0.5,gamma=0.1)),\n                                              ('RFor',RandomForestClassifier(n_estimators=500,random_state=0)),\n                                              ('LR',LogisticRegression(C=0.05)),\n                                              ('DT',DecisionTreeClassifier(random_state=0)),\n                                              ('NB',GaussianNB()),\n                                              ('svm',SVC(kernel='linear',probability=True))\n                                             ], \n                       voting='soft').fit(X,y)\nprint('The accuracy for ensembled model is:',ensemble_lin_rbf.score(X_test,y_test))\ncross=cross_val_score(ensemble_lin_rbf,X,y, cv = 10,scoring = \"accuracy\")\nprint('The cross validated score is',cross.mean())",
      "execution_count": 82,
      "outputs": [
        {
          "output_type": "stream",
          "text": "The accuracy for ensembled model is: 0.8544776119402985\nThe cross validated score is 0.8405703098399728\n",
          "name": "stdout"
        }
      ]
    },
    {
      "metadata": {
        "trusted": true,
        "_uuid": "cbb161397c2fa28c663f11d8e6ce5028e4f40df0"
      },
      "cell_type": "code",
      "source": "from sklearn.ensemble import BaggingClassifier\nmodel=BaggingClassifier(base_estimator=KNeighborsClassifier(n_neighbors=3),random_state=0,n_estimators=700)\nmodel.fit(X, y)\nprediction=model.predict(X_test)\nprint('The accuracy for bagged KNN is:',accuracy_score(prediction,y_test))\nresult=cross_val_score(model,X,y,cv=10,scoring='accuracy')\nprint('The cross validated score for bagged KNN is:',result.mean())",
      "execution_count": 83,
      "outputs": [
        {
          "output_type": "stream",
          "text": "The accuracy for bagged KNN is: 0.8507462686567164\nThe cross validated score for bagged KNN is: 0.8305203722619453\n",
          "name": "stdout"
        }
      ]
    },
    {
      "metadata": {
        "trusted": true,
        "_uuid": "c262913b93f556400b402a928c35adcb1a2c254b"
      },
      "cell_type": "code",
      "source": "model=BaggingClassifier(base_estimator=DecisionTreeClassifier(),random_state=0,n_estimators=100)\nmodel.fit(X,y)\nprediction=model.predict(X_test)\nprint('The accuracy for bagged Decision Tree is:',accuracy_score(prediction,y_test))\nresult=cross_val_score(model,X,y,cv=10,scoring='accuracy')\nprint('The cross validated score for bagged Decision Tree is:',result.mean())",
      "execution_count": 84,
      "outputs": [
        {
          "output_type": "stream",
          "text": "The accuracy for bagged Decision Tree is: 0.8619402985074627\nThe cross validated score for bagged Decision Tree is: 0.8473626716604243\n",
          "name": "stdout"
        }
      ]
    },
    {
      "metadata": {
        "trusted": true,
        "_uuid": "026fb2f04f63e3c1b286971c1618d1b7d2266b60"
      },
      "cell_type": "code",
      "source": "from sklearn.ensemble import AdaBoostClassifier\nada=AdaBoostClassifier(n_estimators=200,random_state=0,learning_rate=0.1)\nresult=cross_val_score(ada,X,y,cv=10,scoring='accuracy')\nprint('The cross validated score for AdaBoost is:',result.mean())",
      "execution_count": 85,
      "outputs": [
        {
          "output_type": "stream",
          "text": "The cross validated score for AdaBoost is: 0.8439532970150948\n",
          "name": "stdout"
        }
      ]
    },
    {
      "metadata": {
        "trusted": true,
        "_uuid": "9f8f2e412ae5fa5a5ef1004c00fe7621b9605c76"
      },
      "cell_type": "code",
      "source": "from sklearn.ensemble import GradientBoostingClassifier\ngrad=GradientBoostingClassifier(n_estimators=500,random_state=0,learning_rate=0.1)\nresult=cross_val_score(grad,X,y,cv=10,scoring='accuracy')\nprint('The cross validated score for Gradient Boosting is:',result.mean())",
      "execution_count": 86,
      "outputs": [
        {
          "output_type": "stream",
          "text": "The cross validated score for Gradient Boosting is: 0.8451654182272159\n",
          "name": "stdout"
        }
      ]
    },
    {
      "metadata": {
        "trusted": true,
        "_uuid": "7b2730e48248e44f89154e0b321f6271533eb1ee"
      },
      "cell_type": "code",
      "source": "final_model = RandomForestClassifier(n_estimators=100)\nfinal_model.fit(X, y)\npredictions = final_model.predict(X_test)\nprint(accuracy_score(y_test, predictions))",
      "execution_count": 88,
      "outputs": [
        {
          "output_type": "stream",
          "text": "0.8619402985074627\n",
          "name": "stdout"
        }
      ]
    },
    {
      "metadata": {
        "trusted": true,
        "_uuid": "9fed258d9fa344bba5204a08a55a9b5f842b0af9"
      },
      "cell_type": "code",
      "source": "y_pred = final_model.predict(X_res)",
      "execution_count": 89,
      "outputs": []
    },
    {
      "metadata": {
        "trusted": true,
        "collapsed": true,
        "_uuid": "924a2d37edce6eda6b27973f05833fdfb124fa61"
      },
      "cell_type": "code",
      "source": "# Submission\nsubmission = {'PassengerId': final_res_data['PassengerId'], 'Survived': y_pred}\nsubmission_df = pd.DataFrame(submission)\nsubmission_df.head()\nsubmission_df.to_csv('gender_submission_final_10.csv', index=False)",
      "execution_count": null,
      "outputs": []
    },
    {
      "metadata": {
        "trusted": true,
        "collapsed": true,
        "_uuid": "47927fd96e4ef216cc42b10e9069b4a04a4d279a"
      },
      "cell_type": "code",
      "source": "",
      "execution_count": null,
      "outputs": []
    }
  ],
  "metadata": {
    "kernelspec": {
      "display_name": "Python 3",
      "language": "python",
      "name": "python3"
    },
    "language_info": {
      "name": "python",
      "version": "3.6.6",
      "mimetype": "text/x-python",
      "codemirror_mode": {
        "name": "ipython",
        "version": 3
      },
      "pygments_lexer": "ipython3",
      "nbconvert_exporter": "python",
      "file_extension": ".py"
    }
  },
  "nbformat": 4,
  "nbformat_minor": 1
}