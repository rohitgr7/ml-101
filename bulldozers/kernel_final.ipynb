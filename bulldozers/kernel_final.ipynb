{
  "cells": [
    {
      "metadata": {
        "trusted": true,
        "_uuid": "ea67ec14bf3fe194b3c6a27646f81a6ebaed8cfd"
      },
      "cell_type": "code",
      "source": "%load_ext autoreload\n%autoreload 2\n\n%matplotlib inline",
      "execution_count": 1,
      "outputs": []
    },
    {
      "metadata": {
        "trusted": true,
        "_uuid": "d65a8776e82a2d3fe255b7c129eb9ff5cf346891"
      },
      "cell_type": "code",
      "source": "import os\nimport numpy as np\nimport pandas as pd\nimport matplotlib.pyplot as plt\nfrom IPython.display import display\nfrom sklearn.ensemble import RandomForestRegressor\n\nfrom utils import *\n\nprint(os.listdir('../input'))",
      "execution_count": 2,
      "outputs": [
        {
          "output_type": "stream",
          "text": "['bluebook-for-bulldozers', 'bulldozerstmp']\n",
          "name": "stdout"
        },
        {
          "output_type": "stream",
          "text": "/opt/conda/lib/python3.6/site-packages/sklearn/ensemble/weight_boosting.py:29: DeprecationWarning: numpy.core.umath_tests is an internal NumPy module and should not be imported. It will be removed in a future NumPy release.\n  from numpy.core.umath_tests import inner1d\n",
          "name": "stderr"
        }
      ]
    },
    {
      "metadata": {
        "_uuid": "585fa860844fa69abed191d0bbe9f54103ebe398"
      },
      "cell_type": "markdown",
      "source": "# Load dataset"
    },
    {
      "metadata": {
        "trusted": true,
        "_uuid": "b1235bab5a2ccf131ae6eb34b24ee10507d12df8"
      },
      "cell_type": "code",
      "source": "os.makedirs('tmp', exist_ok=True)\n\nTRAIN_PATH = './data/Train.csv'\nVALID_PATH = './data/Valid.csv'\nVALID_SOL = './data/ValidSolution.csv'\nTEST_PATH = './data/Test.csv'",
      "execution_count": 4,
      "outputs": []
    },
    {
      "metadata": {
        "trusted": true,
        "_uuid": "d5fceb75b46275f948c7d4597bcfb7af024059c3"
      },
      "cell_type": "code",
      "source": "def display_all(df):\n    with pd.option_context('display.max_rows', 100, 'display.max_columns', 1000):\n        display(df)",
      "execution_count": 5,
      "outputs": []
    },
    {
      "metadata": {
        "trusted": true,
        "_uuid": "fefa4967769ceb39b09e81cb0354a3316220b785"
      },
      "cell_type": "code",
      "source": "# train_df = pd.read_csv(TRAIN_PATH, low_memory=False, parse_dates=['saledate'])\n# valid_df = pd.read_csv(VALID_PATH, low_memory=False, parse_dates=['saledate'])\n# valid_sol = pd.read_csv(VALID_SOL, low_memory=False)\n# test_sol = pd.read_csv(TEST_PATH, low_memory=False, parse_dates=['saledate'])",
      "execution_count": 6,
      "outputs": []
    },
    {
      "metadata": {
        "trusted": true,
        "_uuid": "7fadcd129b70f22fc100b6b5e1b0cf70d3321c26"
      },
      "cell_type": "code",
      "source": "# train_df.to_feather('tmp/train_raw')\n# valid_df.to_feather('tmp/valid_raw')\n# valid_sol.to_feather('tmp/valid_sol_raw')\n# test_sol.to_feather('tmp/test_raw')",
      "execution_count": 7,
      "outputs": []
    },
    {
      "metadata": {
        "_uuid": "21be8f34a9a46882f2d022875279a069b2f8807d"
      },
      "cell_type": "markdown",
      "source": "### Merge valid data"
    },
    {
      "metadata": {
        "trusted": true,
        "_uuid": "d2f39655b8010fc4f6ecb945077fec099b780ee0"
      },
      "cell_type": "code",
      "source": "# valid_df = pd.read_feather('tmp/valid_raw')\n# valid_sol = pd.read_feather('tmp/valid_sol_raw')\n\n# valid_df = pd.merge(left=valid_df, right=valid_sol, how='left', left_on='SalesID', right_on='SalesID')\n# valid_df.drop('Usage', axis=1, inplace=True)\n\n# valid_df.to_feather('tmp/valid_raw')",
      "execution_count": 8,
      "outputs": []
    },
    {
      "metadata": {
        "trusted": true,
        "_uuid": "6a862bd343f57c49b199746ccc1a6cff213ebbce"
      },
      "cell_type": "code",
      "source": "train_df = pd.read_feather('../input/bulldozerstmp/train_raw')\ntrain_temp_df = train_df.copy()\nvalid_df = pd.read_feather('../input/bulldozerstmp/valid_raw')\nvalid_temp_df = valid_df.copy()\n\nprint(len(train_df))\nprint(len(valid_df))",
      "execution_count": 9,
      "outputs": [
        {
          "output_type": "stream",
          "text": "/opt/conda/lib/python3.6/site-packages/pandas/io/feather_format.py:112: FutureWarning: `nthreads` argument is deprecated, pass `use_threads` instead\n  return feather.read_dataframe(path, nthreads=nthreads)\n",
          "name": "stderr"
        },
        {
          "output_type": "stream",
          "text": "401125\n11573\n",
          "name": "stdout"
        }
      ]
    },
    {
      "metadata": {
        "trusted": true,
        "_uuid": "4c92c5172caca760be2f577c4a03b5cdea5a9f49"
      },
      "cell_type": "code",
      "source": "%time add_datecols(train_df, col='saledate')\n%time add_datecols(valid_df, col='saledate')",
      "execution_count": 10,
      "outputs": [
        {
          "output_type": "stream",
          "text": "CPU times: user 544 ms, sys: 140 ms, total: 684 ms\nWall time: 682 ms\nCPU times: user 24 ms, sys: 0 ns, total: 24 ms\nWall time: 23.6 ms\n",
          "name": "stdout"
        }
      ]
    },
    {
      "metadata": {
        "trusted": true,
        "_uuid": "4deb85d8f9934c14107b9226ba48f658028153cd"
      },
      "cell_type": "code",
      "source": "def get_n_unique(df):\n    for col in df.columns:\n        print(f'{col}: {len(df[col].unique())}')\n\n# get_n_unique(train_df)",
      "execution_count": 11,
      "outputs": []
    },
    {
      "metadata": {
        "trusted": true,
        "_uuid": "b1e3d161da44b9ee91191e24e566eca158c986be"
      },
      "cell_type": "code",
      "source": "# Replace None and other null values with np.nan\nnan_cols = [None, 'None or Unspecified', 'None', 'NaN', 'nan']\nreplace_nan(train_df, nan_cols)\nreplace_nan(valid_df, nan_cols)",
      "execution_count": 12,
      "outputs": []
    },
    {
      "metadata": {
        "trusted": true,
        "_uuid": "519d1d4757f1ac399e312bc44555c6ba2ca5cb82"
      },
      "cell_type": "code",
      "source": "drop_cols = None\ncat_cols = ['Tire_Size', 'UsageBand', 'fiModelDesc', 'fiBaseModel', 'fiSecondaryDesc', 'fiModelSeries', 'fiModelDescriptor', 'ProductSize', 'fiProductClassDesc', 'state', 'ProductGroup', 'ProductGroupDesc', 'Drive_System', 'Enclosure', 'Forks', 'Pad_Type', 'Ride_Control', 'Stick', 'Transmission', 'Turbocharged', 'Blade_Extension', 'Blade_Width', 'Enclosure_Type', 'Engine_Horsepower', 'Hydraulics', 'Pushblock', 'Ripper', 'Scarifier', 'Tip_Control', 'Coupler', 'Coupler_System', 'Grouser_Tracks', 'Hydraulics_Flow', 'Track_Type', 'Undercarriage_Pad_Width', 'Stick_Length', 'Thumb', 'Pattern_Changer', 'Grouser_Type', 'Backhoe_Mounting', 'Blade_Type', 'Travel_Controls', 'Differential_Type', 'Steering_Controls']\ncont_cols = ['SalesID', 'MachineHoursCurrentMeter', 'auctioneerID', 'MachineID', 'ModelID', 'datasource', 'YearMade']",
      "execution_count": 16,
      "outputs": []
    },
    {
      "metadata": {
        "trusted": true,
        "_uuid": "713ad0a45a9c200aab1efd499f3daf31290b6a0e"
      },
      "cell_type": "code",
      "source": "# Convert y to log values\ntrain_df['SalePrice'] = np.log(train_df['SalePrice'])\nvalid_df['SalePrice'] = np.log(valid_df['SalePrice'])",
      "execution_count": 17,
      "outputs": []
    },
    {
      "metadata": {
        "trusted": true,
        "_uuid": "cd192065f7a99ea03ea924e3ecee4c36c53a4ece"
      },
      "cell_type": "code",
      "source": "# Convert categorical data to categoriy dtype and continous data to float32 dtype\nconv_contncat(train_df, cont_cols, cat_cols)\nconv_contncat(valid_df, cont_cols, cat_cols)",
      "execution_count": 18,
      "outputs": []
    },
    {
      "metadata": {
        "trusted": true,
        "_uuid": "4c6f1032fcaa40103ce8f4bdafee1e363acf25c5"
      },
      "cell_type": "code",
      "source": "# Fill missing values\nna_dict = fix_missing(train_df, None, cont_cols, cat_cols)\nna_dict = fix_missing(valid_df, na_dict, cont_cols, cat_cols)\n# cat_cols.extend([col for col in train_df.columns if col.endswith('_na')])",
      "execution_count": 19,
      "outputs": []
    },
    {
      "metadata": {
        "trusted": true,
        "_uuid": "cbde22478f664286f9ec93caf33f357672bd77e9",
        "_kg_hide-output": true
      },
      "cell_type": "code",
      "source": "# Get mappers\ncat_mapper, cont_mapper = get_nn_mappers(train_df, cat_cols, cont_cols)",
      "execution_count": 20,
      "outputs": []
    },
    {
      "metadata": {
        "trusted": true,
        "_uuid": "a337ae28bb38c917fe60f56047a6509daf16e43d"
      },
      "cell_type": "code",
      "source": "# Proc_df\n%time X_train, y_train = proc_df(train_df, 'SalePrice', drop_cols=drop_cols, cat_mapper=cat_mapper, cont_mapper=cont_mapper)",
      "execution_count": 21,
      "outputs": [
        {
          "output_type": "stream",
          "text": "CPU times: user 10.9 s, sys: 2.66 s, total: 13.5 s\nWall time: 13.6 s\n",
          "name": "stdout"
        }
      ]
    },
    {
      "metadata": {
        "trusted": true,
        "_uuid": "6e9b336aa51c77127753868af23b0bbcdf9e397c"
      },
      "cell_type": "code",
      "source": "%time X_valid, y_valid = proc_df(valid_df, 'SalePrice', drop_cols=drop_cols, cat_mapper=cat_mapper, cont_mapper=cont_mapper)",
      "execution_count": 22,
      "outputs": [
        {
          "output_type": "stream",
          "text": "CPU times: user 316 ms, sys: 0 ns, total: 316 ms\nWall time: 312 ms\n",
          "name": "stdout"
        }
      ]
    },
    {
      "metadata": {
        "trusted": true,
        "_uuid": "5e01c65cc84580b1f6a399defd1431478f392312"
      },
      "cell_type": "code",
      "source": "X_train = X_train.astype(np.float32)\nX_valid = X_valid.astype(np.float32)",
      "execution_count": 23,
      "outputs": []
    },
    {
      "metadata": {
        "trusted": true,
        "_uuid": "3290d462100e9334d05e520952d7f5cdc75a451e"
      },
      "cell_type": "code",
      "source": "def rmse(y_pred, y_true):\n    return np.mean((y_pred - y_true)**2) ** 0.5\n\ndef get_scores(m, X_train, y_train, X_valid, y_valid):\n    scores = [rmse(m.predict(X_train), y_train), rmse(m.predict(X_valid), y_valid), m.score(X_train, y_train), m.score(X_valid, y_valid)]\n\n    if m.oob_score is True:\n        scores.append(m.oob_score_)\n\n    return scores",
      "execution_count": 24,
      "outputs": []
    },
    {
      "metadata": {
        "trusted": true,
        "_uuid": "0d1b9d9c689c7088a3d04d3aca55cb4f0f894897"
      },
      "cell_type": "code",
      "source": "m2 = RandomForestRegressor(n_estimators = 40, n_jobs=-1, oob_score=True)\n%time m2.fit(X_train, y_train)\n%time get_scores(m2, X_train, y_train, X_valid, y_valid)",
      "execution_count": 30,
      "outputs": [
        {
          "output_type": "stream",
          "text": "CPU times: user 6min 52s, sys: 2.74 s, total: 6min 55s\nWall time: 3min 33s\nCPU times: user 13.5 s, sys: 212 ms, total: 13.7 s\nWall time: 7.28 s\n",
          "name": "stdout"
        },
        {
          "output_type": "execute_result",
          "execution_count": 30,
          "data": {
            "text/plain": "[0.07944135612262798,\n 0.25682130754101945,\n 0.9868825304056412,\n 0.8777168667723875,\n 0.906483149008303]"
          },
          "metadata": {}
        }
      ]
    },
    {
      "metadata": {
        "trusted": true,
        "_uuid": "d714e233406e774c0c394f38322d2422f5dd6438"
      },
      "cell_type": "code",
      "source": "m = RandomForestRegressor(n_estimators=80, n_jobs=-1, oob_score=True)\n%time m.fit(X_train, y_train)\n%time get_scores(m, X_train, y_train, X_valid, y_valid)",
      "execution_count": 31,
      "outputs": [
        {
          "output_type": "stream",
          "text": "CPU times: user 13min 38s, sys: 4.71 s, total: 13min 43s\nWall time: 7min 3s\nCPU times: user 26.8 s, sys: 68 ms, total: 26.9 s\nWall time: 14 s\n",
          "name": "stdout"
        },
        {
          "output_type": "execute_result",
          "execution_count": 31,
          "data": {
            "text/plain": "[0.07714858049865315,\n 0.2547792179257007,\n 0.9876287766728782,\n 0.8796537802949524,\n 0.9103557034171499]"
          },
          "metadata": {}
        }
      ]
    },
    {
      "metadata": {
        "trusted": true,
        "_uuid": "22f5e9616ee40bf3a8ed22c41f5e481f4562ba4f"
      },
      "cell_type": "code",
      "source": "m3 = RandomForestRegressor(n_estimators=50, min_samples_leaf=3, max_features=0.6, n_jobs=-1, oob_score=True)\n%time m3.fit(X_train, y_train)\n%time get_scores(m3, X_train, y_train, X_valid, y_valid)",
      "execution_count": 25,
      "outputs": [
        {
          "output_type": "stream",
          "text": "CPU times: user 4min 42s, sys: 2.06 s, total: 4min 44s\nWall time: 2min 27s\nCPU times: user 13.9 s, sys: 368 ms, total: 14.3 s\nWall time: 7.79 s\n",
          "name": "stdout"
        },
        {
          "output_type": "execute_result",
          "execution_count": 25,
          "data": {
            "text/plain": "[0.11974766408355328,\n 0.2442236615921707,\n 0.9701948804310419,\n 0.8894191487031452,\n 0.9113431058541983]"
          },
          "metadata": {}
        }
      ]
    },
    {
      "metadata": {
        "_uuid": "6c16d437a9c279cc64597397b967504834b182cc"
      },
      "cell_type": "markdown",
      "source": "## Feature importances"
    },
    {
      "metadata": {
        "trusted": true,
        "_uuid": "3bfda3380e1389ba6076151a00d3a8ec737bac0a"
      },
      "cell_type": "code",
      "source": "fi = rf_feat_importance(m3, X_train)",
      "execution_count": 26,
      "outputs": []
    },
    {
      "metadata": {
        "trusted": true,
        "_uuid": "3671f54b671b7500be486f24837e32c381ea1ffa"
      },
      "cell_type": "code",
      "source": "fi[:30].plot('cols', 'imp', 'barh', figsize=(12, 8), legend=False)",
      "execution_count": 27,
      "outputs": [
        {
          "output_type": "execute_result",
          "execution_count": 27,
          "data": {
            "text/plain": "<matplotlib.axes._subplots.AxesSubplot at 0x7f164151d6a0>"
          },
          "metadata": {}
        },
        {
          "output_type": "display_data",
          "data": {
            "text/plain": "<Figure size 864x576 with 1 Axes>",
            "image/png": "[encoded data removed]"
          },
          "metadata": {
            "needs_background": "light"
          }
        }
      ]
    },
    {
      "metadata": {
        "trusted": true,
        "_uuid": "0b96a01a6efbdfb305eb69476bbce2b7e18bc6f3"
      },
      "cell_type": "code",
      "source": "cols_to_keep = fi[fi['imp'] > 0.005]['cols']\nlen(cols_to_keep)",
      "execution_count": 28,
      "outputs": [
        {
          "output_type": "execute_result",
          "execution_count": 28,
          "data": {
            "text/plain": "24"
          },
          "metadata": {}
        }
      ]
    },
    {
      "metadata": {
        "trusted": true,
        "_uuid": "a29869794f67df8533c389dcb262841867eb896f"
      },
      "cell_type": "code",
      "source": "X_train_keep = X_train[cols_to_keep].copy()\nX_valid_keep = X_valid[cols_to_keep].copy()",
      "execution_count": 29,
      "outputs": []
    },
    {
      "metadata": {
        "trusted": true,
        "_uuid": "2abf69d294e781ae6179145dbf038ceaa1ae94e5"
      },
      "cell_type": "code",
      "source": "m4 = RandomForestRegressor(n_estimators=50, min_samples_leaf=3, max_features=0.6, n_jobs=-1, oob_score=True)\n%time m4.fit(X_train_keep, y_train)\n%time get_scores(m4, X_train_keep, y_train, X_valid_keep, y_valid)",
      "execution_count": 32,
      "outputs": [
        {
          "output_type": "stream",
          "text": "CPU times: user 2min 32s, sys: 420 ms, total: 2min 33s\nWall time: 1min 19s\nCPU times: user 12.3 s, sys: 112 ms, total: 12.5 s\nWall time: 6.65 s\n",
          "name": "stdout"
        },
        {
          "output_type": "execute_result",
          "execution_count": 32,
          "data": {
            "text/plain": "[0.12576728896010084,\n 0.24470638980434045,\n 0.9671230011566576,\n 0.8889815723292935,\n 0.9087701413414087]"
          },
          "metadata": {}
        }
      ]
    },
    {
      "metadata": {
        "_uuid": "4f4c45b84e3286ddd25804795a40939d25c908b6"
      },
      "cell_type": "markdown",
      "source": "## Removing redundant features"
    },
    {
      "metadata": {
        "trusted": true,
        "_uuid": "510b855a2fe1220f535ecb9a6d3a8cac2cdca70f"
      },
      "cell_type": "code",
      "source": "import scipy\nfrom scipy.cluster import hierarchy as hc",
      "execution_count": 33,
      "outputs": []
    },
    {
      "metadata": {
        "trusted": true,
        "_uuid": "c1ec37a9cc6cbb32f976c01a1071b5ede0f13836"
      },
      "cell_type": "code",
      "source": "corr = np.round(scipy.stats.spearmanr(X_train_keep).correlation, 4)\ncorr_condensed = hc.distance.squareform(1-corr)\nz = hc.linkage(corr_condensed, method='average')\nfig = plt.figure(figsize=(16,10))\ndendrogram = hc.dendrogram(z, labels=X_train_keep.columns, orientation='left', leaf_font_size=16)\nplt.show()",
      "execution_count": 34,
      "outputs": [
        {
          "output_type": "display_data",
          "data": {
            "text/plain": "<Figure size 1152x720 with 1 Axes>",
            "image/png": "[encoded data removed]"
          },
          "metadata": {
            "needs_background": "light"
          }
        }
      ]
    },
    {
      "metadata": {
        "trusted": true,
        "_uuid": "8109c1eb62607d3a8823b07c93cff707def05688"
      },
      "cell_type": "code",
      "source": "dn_cols = ['saleyear_cat', 'saleelapsed']\n\nfor col in dn_cols:\n    X_train_temp = X_train_keep.drop(col, axis=1).copy()\n    X_valid_temp = X_valid_keep.drop(col, axis=1).copy()\n    m = RandomForestRegressor(n_estimators=50, min_samples_leaf=3, max_features=0.6, oob_score=True)\n    m.fit(X_train_temp, y_train)\n    print(col)\n    print(get_scores(m, X_train_temp, y_train, X_valid_temp, y_valid))",
      "execution_count": 36,
      "outputs": [
        {
          "output_type": "stream",
          "text": "saleyear_cat\n[0.12693797674434162, 0.2460503782308987, 0.9665080903212674, 0.8877587417823184, 0.9080691883344022]\nsaleelapsed\n[0.13037286338051912, 0.24590188579563094, 0.9646710137490815, 0.8878941770423215, 0.9060558516725439]\n",
          "name": "stdout"
        }
      ]
    },
    {
      "metadata": {
        "trusted": true,
        "_uuid": "e4fc22979829bc169587ec46c0188f13ed35daf1"
      },
      "cell_type": "markdown",
      "source": "## Extrapolation"
    },
    {
      "metadata": {
        "trusted": true,
        "_uuid": "bcf405b56648a748050c5d0d7353a8695fae4520"
      },
      "cell_type": "code",
      "source": "X_train_ext = X_train_keep.copy()\nX_valid_ext = X_valid_keep.copy()\nX_train_ext['is_valid'] = 0\nX_valid_ext['is_valid'] = 1\nX_ext = pd.concat([X_train_ext, X_valid_ext], ignore_index=True)\nX_ext = X_ext.sample(frac=1).reset_index(drop=True)\n\ny_ext = X_ext['is_valid']\nX_ext.drop('is_valid', axis=1, inplace=True)\n\nX_ext.head()",
      "execution_count": 51,
      "outputs": [
        {
          "output_type": "execute_result",
          "execution_count": 51,
          "data": {
            "text/plain": "   YearMade          ...           fiModelDescriptor_na\n0    1977.0          ...                            1.0\n1    1000.0          ...                            1.0\n2    1983.0          ...                            1.0\n3    2003.0          ...                            0.0\n4    1000.0          ...                            1.0\n\n[5 rows x 24 columns]",
            "text/html": "<div>\n<style scoped>\n    .dataframe tbody tr th:only-of-type {\n        vertical-align: middle;\n    }\n\n    .dataframe tbody tr th {\n        vertical-align: top;\n    }\n\n    .dataframe thead th {\n        text-align: right;\n    }\n</style>\n<table border=\"1\" class=\"dataframe\">\n  <thead>\n    <tr style=\"text-align: right;\">\n      <th></th>\n      <th>YearMade</th>\n      <th>Hydraulics_Flow</th>\n      <th>ProductSize</th>\n      <th>ModelID</th>\n      <th>Hydraulics_Flow_na</th>\n      <th>saleelapsed</th>\n      <th>Enclosure</th>\n      <th>ProductGroupDesc</th>\n      <th>fiProductClassDesc</th>\n      <th>SalesID</th>\n      <th>fiSecondaryDesc</th>\n      <th>fiModelDescriptor</th>\n      <th>fiBaseModel</th>\n      <th>saleyear_cat</th>\n      <th>ProductGroup</th>\n      <th>fiModelDesc</th>\n      <th>MachineID</th>\n      <th>Tire_Size</th>\n      <th>ProductSize_na</th>\n      <th>Hydraulics_na</th>\n      <th>state</th>\n      <th>Hydraulics</th>\n      <th>saleweek_cat</th>\n      <th>fiModelDescriptor_na</th>\n    </tr>\n  </thead>\n  <tbody>\n    <tr>\n      <th>0</th>\n      <td>1977.0</td>\n      <td>0.0</td>\n      <td>0.0</td>\n      <td>8089.0</td>\n      <td>1.0</td>\n      <td>6.079968e+17</td>\n      <td>4.0</td>\n      <td>1.0</td>\n      <td>22.0</td>\n      <td>1595078.0</td>\n      <td>0.0</td>\n      <td>0.0</td>\n      <td>1840.0</td>\n      <td>1989.0</td>\n      <td>1.0</td>\n      <td>3676.0</td>\n      <td>1281835.0</td>\n      <td>0.0</td>\n      <td>1.0</td>\n      <td>1.0</td>\n      <td>30.0</td>\n      <td>0.0</td>\n      <td>14.0</td>\n      <td>1.0</td>\n    </tr>\n    <tr>\n      <th>1</th>\n      <td>1000.0</td>\n      <td>0.0</td>\n      <td>4.0</td>\n      <td>2768.0</td>\n      <td>1.0</td>\n      <td>1.243382e+18</td>\n      <td>4.0</td>\n      <td>6.0</td>\n      <td>62.0</td>\n      <td>2261955.0</td>\n      <td>154.0</td>\n      <td>0.0</td>\n      <td>1080.0</td>\n      <td>2009.0</td>\n      <td>3.0</td>\n      <td>3006.0</td>\n      <td>16019.0</td>\n      <td>0.0</td>\n      <td>0.0</td>\n      <td>0.0</td>\n      <td>14.0</td>\n      <td>1.0</td>\n      <td>22.0</td>\n      <td>1.0</td>\n    </tr>\n    <tr>\n      <th>2</th>\n      <td>1983.0</td>\n      <td>0.0</td>\n      <td>0.0</td>\n      <td>4954.0</td>\n      <td>1.0</td>\n      <td>7.922880e+17</td>\n      <td>4.0</td>\n      <td>5.0</td>\n      <td>64.0</td>\n      <td>1657753.0</td>\n      <td>81.0</td>\n      <td>0.0</td>\n      <td>1853.0</td>\n      <td>1995.0</td>\n      <td>5.0</td>\n      <td>4451.0</td>\n      <td>1282684.0</td>\n      <td>0.0</td>\n      <td>1.0</td>\n      <td>0.0</td>\n      <td>14.0</td>\n      <td>1.0</td>\n      <td>6.0</td>\n      <td>1.0</td>\n    </tr>\n    <tr>\n      <th>3</th>\n      <td>2003.0</td>\n      <td>0.0</td>\n      <td>1.0</td>\n      <td>14272.0</td>\n      <td>1.0</td>\n      <td>1.141776e+18</td>\n      <td>3.0</td>\n      <td>4.0</td>\n      <td>65.0</td>\n      <td>1602792.0</td>\n      <td>67.0</td>\n      <td>13.0</td>\n      <td>1176.0</td>\n      <td>2006.0</td>\n      <td>6.0</td>\n      <td>2501.0</td>\n      <td>1140248.0</td>\n      <td>0.0</td>\n      <td>0.0</td>\n      <td>0.0</td>\n      <td>10.0</td>\n      <td>10.0</td>\n      <td>10.0</td>\n      <td>0.0</td>\n    </tr>\n    <tr>\n      <th>4</th>\n      <td>1000.0</td>\n      <td>0.0</td>\n      <td>2.0</td>\n      <td>4675.0</td>\n      <td>1.0</td>\n      <td>1.091059e+18</td>\n      <td>1.0</td>\n      <td>4.0</td>\n      <td>37.0</td>\n      <td>1582896.0</td>\n      <td>96.0</td>\n      <td>0.0</td>\n      <td>342.0</td>\n      <td>2004.0</td>\n      <td>6.0</td>\n      <td>2178.0</td>\n      <td>674131.0</td>\n      <td>0.0</td>\n      <td>0.0</td>\n      <td>0.0</td>\n      <td>5.0</td>\n      <td>6.0</td>\n      <td>31.0</td>\n      <td>1.0</td>\n    </tr>\n  </tbody>\n</table>\n</div>"
          },
          "metadata": {}
        }
      ]
    },
    {
      "metadata": {
        "trusted": true,
        "_uuid": "b323898bd092d96b71ceea82d8d1d51ea7af0fad"
      },
      "cell_type": "code",
      "source": "m6 = RandomForestRegressor(n_estimators=50, min_samples_leaf=3, max_features=0.6, oob_score=True)\n%time m6.fit(X_ext, y_ext)\nprint(m6.oob_score_)",
      "execution_count": 38,
      "outputs": [
        {
          "output_type": "stream",
          "text": "CPU times: user 11.8 s, sys: 4 ms, total: 11.8 s\nWall time: 11.8 s\n0.9999936507880285\n",
          "name": "stdout"
        }
      ]
    },
    {
      "metadata": {
        "trusted": true,
        "_uuid": "86f3f062eb6ef4499d92aa9c11e79171b2825327"
      },
      "cell_type": "code",
      "source": "ft_ext = rf_feat_importance(m6, X_ext)\nft_ext[:10]",
      "execution_count": 39,
      "outputs": [
        {
          "output_type": "execute_result",
          "execution_count": 39,
          "data": {
            "text/plain": "            cols       imp\n13  saleyear_cat  0.530069\n5    saleelapsed  0.403296\n9        SalesID  0.045869\n22  saleweek_cat  0.012414\n16     MachineID  0.008262\n3        ModelID  0.000089\n0       YearMade  0.000000\n14  ProductGroup  0.000000\n21    Hydraulics  0.000000\n20         state  0.000000",
            "text/html": "<div>\n<style scoped>\n    .dataframe tbody tr th:only-of-type {\n        vertical-align: middle;\n    }\n\n    .dataframe tbody tr th {\n        vertical-align: top;\n    }\n\n    .dataframe thead th {\n        text-align: right;\n    }\n</style>\n<table border=\"1\" class=\"dataframe\">\n  <thead>\n    <tr style=\"text-align: right;\">\n      <th></th>\n      <th>cols</th>\n      <th>imp</th>\n    </tr>\n  </thead>\n  <tbody>\n    <tr>\n      <th>13</th>\n      <td>saleyear_cat</td>\n      <td>0.530069</td>\n    </tr>\n    <tr>\n      <th>5</th>\n      <td>saleelapsed</td>\n      <td>0.403296</td>\n    </tr>\n    <tr>\n      <th>9</th>\n      <td>SalesID</td>\n      <td>0.045869</td>\n    </tr>\n    <tr>\n      <th>22</th>\n      <td>saleweek_cat</td>\n      <td>0.012414</td>\n    </tr>\n    <tr>\n      <th>16</th>\n      <td>MachineID</td>\n      <td>0.008262</td>\n    </tr>\n    <tr>\n      <th>3</th>\n      <td>ModelID</td>\n      <td>0.000089</td>\n    </tr>\n    <tr>\n      <th>0</th>\n      <td>YearMade</td>\n      <td>0.000000</td>\n    </tr>\n    <tr>\n      <th>14</th>\n      <td>ProductGroup</td>\n      <td>0.000000</td>\n    </tr>\n    <tr>\n      <th>21</th>\n      <td>Hydraulics</td>\n      <td>0.000000</td>\n    </tr>\n    <tr>\n      <th>20</th>\n      <td>state</td>\n      <td>0.000000</td>\n    </tr>\n  </tbody>\n</table>\n</div>"
          },
          "metadata": {}
        }
      ]
    },
    {
      "metadata": {
        "trusted": true,
        "_uuid": "52d0a3f0f4440b048fab7217f21425bb2169e335"
      },
      "cell_type": "code",
      "source": "t_feats = ['saleyear_cat', 'saleelapsed', 'SalesID', 'saleweek_cat', 'MachineID']",
      "execution_count": 52,
      "outputs": []
    },
    {
      "metadata": {
        "trusted": true,
        "_uuid": "9c2f1cf22348250077db50faedf9aa0cec338c3f"
      },
      "cell_type": "code",
      "source": "X_ext.drop(t_feats, axis=1, inplace=True)",
      "execution_count": 53,
      "outputs": []
    },
    {
      "metadata": {
        "trusted": true,
        "_uuid": "5e0b332a00f12dadc2d04c41d0e907fbaefcaf1a"
      },
      "cell_type": "code",
      "source": "m6 = RandomForestRegressor(n_estimators=50, min_samples_leaf=3, max_features=0.6, oob_score=True)\n%time m6.fit(X_ext, y_ext)\nprint(m6.oob_score_)",
      "execution_count": 54,
      "outputs": [
        {
          "output_type": "stream",
          "text": "CPU times: user 1min 5s, sys: 48 ms, total: 1min 5s\nWall time: 1min 5s\n0.11372066660180824\n",
          "name": "stdout"
        }
      ]
    },
    {
      "metadata": {
        "trusted": true,
        "_uuid": "6d1356ec05201cc99f0ca28f61f50c81aeeb8f6f"
      },
      "cell_type": "code",
      "source": "m7 = RandomForestRegressor(n_estimators=50, min_samples_leaf=3, max_features=0.6, oob_score=True)\n%time m7.fit(X_train_keep, y_train)\nget_scores(m7, X_train_keep, y_train, X_valid_keep, y_valid)",
      "execution_count": 44,
      "outputs": [
        {
          "output_type": "stream",
          "text": "CPU times: user 1min 43s, sys: 168 ms, total: 1min 43s\nWall time: 1min 43s\n",
          "name": "stdout"
        },
        {
          "output_type": "execute_result",
          "execution_count": 44,
          "data": {
            "text/plain": "[0.12600394094985348,\n 0.24500323274921845,\n 0.9669991577102367,\n 0.8887120654708024,\n 0.9084370330255321]"
          },
          "metadata": {}
        }
      ]
    },
    {
      "metadata": {
        "trusted": true,
        "_uuid": "958d7a9303de7def7a98a660caf4b156392a50ce"
      },
      "cell_type": "code",
      "source": "for col in t_feats:\n    X_train_temp = X_train_keep.drop(col, axis=1)\n    X_valid_temp = X_valid_keep.drop(col, axis=1)\n    \n    m0 = RandomForestRegressor(n_estimators=50, min_samples_leaf=3, max_features=0.6, oob_score=True)\n    m0.fit(X_train_temp, y_train)\n    print(col)\n    print(get_scores(m0, X_train_temp, y_train, X_valid_temp, y_valid))",
      "execution_count": 55,
      "outputs": [
        {
          "output_type": "stream",
          "text": "saleyear_cat\n[0.1270074778827065, 0.24639859853930632, 0.9664714052700766, 0.8874408203636502, 0.907850436494885]\nsaleelapsed\n[0.13046597119885883, 0.24516145080495666, 0.9646205342345779, 0.8885682841353821, 0.9062035415385199]\nSalesID\n[0.1305634169144763, 0.24345144563067125, 0.964567664281827, 0.8901173390094772, 0.9084944704800096]\nsaleweek_cat\n[0.1296792370132768, 0.24874008053429233, 0.965045937304982, 0.8852913961903017, 0.9077434696508947]\nMachineID\n[0.12997772302051855, 0.2440039716824443, 0.9648848428052603, 0.8896180038881556, 0.9101098902189805]\n",
          "name": "stdout"
        }
      ]
    },
    {
      "metadata": {
        "_uuid": "4a32e652aec2a4d6351b0e70f20b78ad1fb550bc"
      },
      "cell_type": "markdown",
      "source": "## Final random-forest regressor"
    },
    {
      "metadata": {
        "trusted": true,
        "_uuid": "eaaba83e757ee4ca1b9de54e2ee4bce0baecbc4f"
      },
      "cell_type": "code",
      "source": "X_train_temp = X_train_keep.drop(['SalesID', 'MachineID'], axis=1)\nX_valid_temp = X_valid_keep.drop(['SalesID', 'MachineID'], axis=1)\n\nm9 = RandomForestRegressor(n_estimators=50, min_samples_leaf=3, max_features=0.6, oob_score=True)\n%time m9.fit(X_train_temp, y_train)\n%time get_scores(m9, X_train_temp, y_train, X_valid_temp, y_valid)",
      "execution_count": 57,
      "outputs": [
        {
          "output_type": "stream",
          "text": "CPU times: user 1min 10s, sys: 100 ms, total: 1min 11s\nWall time: 1min 11s\nCPU times: user 9.56 s, sys: 4 ms, total: 9.56 s\nWall time: 9.57 s\n",
          "name": "stdout"
        },
        {
          "output_type": "execute_result",
          "execution_count": 57,
          "data": {
            "text/plain": "[0.13570501824775388,\n 0.24261294549789278,\n 0.961722057723292,\n 0.8908729554423678,\n 0.9102475329321587]"
          },
          "metadata": {}
        }
      ]
    },
    {
      "metadata": {
        "trusted": true,
        "_uuid": "675f78377b36c0dd572411451f3876ab7e401f3f"
      },
      "cell_type": "code",
      "source": "X_train_temp.columns",
      "execution_count": 58,
      "outputs": [
        {
          "output_type": "execute_result",
          "execution_count": 58,
          "data": {
            "text/plain": "Index(['YearMade', 'Hydraulics_Flow', 'ProductSize', 'ModelID',\n       'Hydraulics_Flow_na', 'saleelapsed', 'Enclosure', 'ProductGroupDesc',\n       'fiProductClassDesc', 'fiSecondaryDesc', 'fiModelDescriptor',\n       'fiBaseModel', 'saleyear_cat', 'ProductGroup', 'fiModelDesc',\n       'Tire_Size', 'ProductSize_na', 'Hydraulics_na', 'state', 'Hydraulics',\n       'saleweek_cat', 'fiModelDescriptor_na'],\n      dtype='object')"
          },
          "metadata": {}
        }
      ]
    },
    {
      "metadata": {
        "trusted": true,
        "_uuid": "beaa1ea3f781203afadae3da215024c54c8ce206"
      },
      "cell_type": "code",
      "source": "X_train_final = X_train_keep.drop(['MachineID', 'SalesID'], axis=1)\nX_valid_final = X_valid_keep.drop(['MachineID', 'SalesID'], axis=1)\n\nm9 = RandomForestRegressor(n_estimators=160, min_samples_leaf = 3, max_features=0.5, oob_score=True)\n%time m9.fit(X_train_final, y_train)\n%time get_scores(m9, X_train_final, y_train, X_valid_final, y_valid)",
      "execution_count": 62,
      "outputs": [
        {
          "output_type": "stream",
          "text": "CPU times: user 3min 16s, sys: 744 ms, total: 3min 16s\nWall time: 3min 16s\nCPU times: user 31.8 s, sys: 12 ms, total: 31.8 s\nWall time: 31.9 s\n",
          "name": "stdout"
        },
        {
          "output_type": "execute_result",
          "execution_count": 62,
          "data": {
            "text/plain": "[0.13737117410878166,\n 0.2415431155406774,\n 0.9607763515337748,\n 0.8918332502494163,\n 0.9126637329644186]"
          },
          "metadata": {}
        }
      ]
    }
  ],
  "metadata": {
    "kernelspec": {
      "display_name": "Python 3",
      "language": "python",
      "name": "python3"
    },
    "language_info": {
      "name": "python",
      "version": "3.6.6",
      "mimetype": "text/x-python",
      "codemirror_mode": {
        "name": "ipython",
        "version": 3
      },
      "pygments_lexer": "ipython3",
      "nbconvert_exporter": "python",
      "file_extension": ".py"
    },
    "varInspector": {
      "cols": {
        "lenName": 16,
        "lenType": 16,
        "lenVar": 40
      },
      "kernels_config": {
        "python": {
          "delete_cmd_postfix": "",
          "delete_cmd_prefix": "del ",
          "library": "var_list.py",
          "varRefreshCmd": "print(var_dic_list())"
        },
        "r": {
          "delete_cmd_postfix": ") ",
          "delete_cmd_prefix": "rm(",
          "library": "var_list.r",
          "varRefreshCmd": "cat(var_dic_list()) "
        }
      },
      "types_to_exclude": [
        "module",
        "function",
        "builtin_function_or_method",
        "instance",
        "_Feature"
      ],
      "window_display": false
    }
  },
  "nbformat": 4,
  "nbformat_minor": 1
}